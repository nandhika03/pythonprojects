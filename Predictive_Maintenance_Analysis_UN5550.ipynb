{
 "cells": [
  {
   "cell_type": "markdown",
   "metadata": {
    "id": "W2ojiYcNJ-BQ"
   },
   "source": [
    "# P1 - Experience with Pandas\n",
    "\n",
    "\n",
    "\n",
    "In this project, you will be working with the Climate Data set:  \n",
    "http://berkeleyearth.lbl.gov/auto/Global/Complete_TAVG_daily.txt \n",
    "\n",
    "Be sure to investigate and understand the data, format, and descriptions provided.\n",
    "\n"
   ]
  },
  {
   "cell_type": "markdown",
   "metadata": {},
   "source": [
    "### Project Setup \n",
    "\n",
    "You should use the following libraries to complete this assignment:"
   ]
  },
  {
   "cell_type": "code",
   "execution_count": 36,
   "metadata": {
    "executionInfo": {
     "elapsed": 6,
     "status": "ok",
     "timestamp": 1631801601853,
     "user": {
      "displayName": "Laura Brown",
      "photoUrl": "https://lh3.googleusercontent.com/a-/AOh14GjYbC5So3kNOYBteW-fSY5JpgP-bBJa7kyAEluaKg=s64",
      "userId": "02180634349638765126"
     },
     "user_tz": 240
    },
    "id": "i7IZpH0fJ9Fk",
    "tags": []
   },
   "outputs": [],
   "source": [
    "# Imports\n",
    "import pandas as pd\n",
    "import numpy as np\n",
    "import matplotlib as mpl\n",
    "import matplotlib.pyplot as plt\n",
    "import seaborn as sns\n",
    "%matplotlib inline\n",
    "import os"
   ]
  },
  {
   "cell_type": "markdown",
   "metadata": {
    "id": "xWVyWP8EKTQ2"
   },
   "source": [
    "## 1. (8 pts) Get the Data\n",
    "\n",
    "Read in the data from the link provided.  \n",
    "\n"
   ]
  },
  {
   "cell_type": "raw",
   "metadata": {},
   "source": [
    "# BEGIN QUESTION\n",
    "name: p1_q1a\n",
    "points: 6"
   ]
  },
  {
   "cell_type": "markdown",
   "metadata": {
    "id": "ZFm_ciSKN2Wb"
   },
   "source": [
    "### 1A. Load the data\n",
    "\n",
    "Write a function to read in the data to a DataFrame object, print the number of rows, columns, and data types of each column using a print statement.\n",
    "\n",
    "Make sure to use the same column names as given in the data, but replacing ' ' with '_'.\n",
    "    \n",
    "*Hint: Column names should be coded as `Date_Number`, `Year`, `Month`, `Day`, `Day_of_Year`, `Anomaly`.*"
   ]
  },
  {
   "cell_type": "raw",
   "metadata": {},
   "source": [
    "# BEGIN SOLUTION"
   ]
  },
  {
   "cell_type": "code",
   "execution_count": 37,
   "metadata": {
    "colab": {
     "base_uri": "https://localhost:8080/",
     "height": 592
    },
    "executionInfo": {
     "elapsed": 871,
     "status": "ok",
     "timestamp": 1631801764595,
     "user": {
      "displayName": "Laura Brown",
      "photoUrl": "https://lh3.googleusercontent.com/a-/AOh14GjYbC5So3kNOYBteW-fSY5JpgP-bBJa7kyAEluaKg=s64",
      "userId": "02180634349638765126"
     },
     "user_tz": 240
    },
    "id": "KXDkKNkxJtsa",
    "outputId": "4e6d81a1-c991-442c-ab02-099860d03cde"
   },
   "outputs": [
    {
     "name": "stdout",
     "output_type": "stream",
     "text": [
      "The number of rows in the data frame is: 52077\n",
      "The number of columns in the data frame is: 6\n",
      "Date_Number is of the data type  float64\n",
      "Year is of the data type  int64\n",
      "Month is of the data type  int64\n",
      "Day is of the data type  int64\n",
      "Day_of_Year is of the data type  int64\n",
      "Anomaly is of the data type  float64\n"
     ]
    },
    {
     "data": {
      "text/html": [
       "<div>\n",
       "<style scoped>\n",
       "    .dataframe tbody tr th:only-of-type {\n",
       "        vertical-align: middle;\n",
       "    }\n",
       "\n",
       "    .dataframe tbody tr th {\n",
       "        vertical-align: top;\n",
       "    }\n",
       "\n",
       "    .dataframe thead th {\n",
       "        text-align: right;\n",
       "    }\n",
       "</style>\n",
       "<table border=\"1\" class=\"dataframe\">\n",
       "  <thead>\n",
       "    <tr style=\"text-align: right;\">\n",
       "      <th></th>\n",
       "      <th>Date_Number</th>\n",
       "      <th>Year</th>\n",
       "      <th>Month</th>\n",
       "      <th>Day</th>\n",
       "      <th>Day_of_Year</th>\n",
       "      <th>Anomaly</th>\n",
       "    </tr>\n",
       "  </thead>\n",
       "  <tbody>\n",
       "    <tr>\n",
       "      <th>0</th>\n",
       "      <td>1880.001</td>\n",
       "      <td>1880</td>\n",
       "      <td>1</td>\n",
       "      <td>1</td>\n",
       "      <td>1</td>\n",
       "      <td>-0.692</td>\n",
       "    </tr>\n",
       "    <tr>\n",
       "      <th>1</th>\n",
       "      <td>1880.004</td>\n",
       "      <td>1880</td>\n",
       "      <td>1</td>\n",
       "      <td>2</td>\n",
       "      <td>2</td>\n",
       "      <td>-0.592</td>\n",
       "    </tr>\n",
       "    <tr>\n",
       "      <th>2</th>\n",
       "      <td>1880.007</td>\n",
       "      <td>1880</td>\n",
       "      <td>1</td>\n",
       "      <td>3</td>\n",
       "      <td>3</td>\n",
       "      <td>-0.673</td>\n",
       "    </tr>\n",
       "    <tr>\n",
       "      <th>3</th>\n",
       "      <td>1880.010</td>\n",
       "      <td>1880</td>\n",
       "      <td>1</td>\n",
       "      <td>4</td>\n",
       "      <td>4</td>\n",
       "      <td>-0.615</td>\n",
       "    </tr>\n",
       "    <tr>\n",
       "      <th>4</th>\n",
       "      <td>1880.012</td>\n",
       "      <td>1880</td>\n",
       "      <td>1</td>\n",
       "      <td>5</td>\n",
       "      <td>5</td>\n",
       "      <td>-0.681</td>\n",
       "    </tr>\n",
       "    <tr>\n",
       "      <th>...</th>\n",
       "      <td>...</td>\n",
       "      <td>...</td>\n",
       "      <td>...</td>\n",
       "      <td>...</td>\n",
       "      <td>...</td>\n",
       "      <td>...</td>\n",
       "    </tr>\n",
       "    <tr>\n",
       "      <th>52072</th>\n",
       "      <td>2022.568</td>\n",
       "      <td>2022</td>\n",
       "      <td>7</td>\n",
       "      <td>27</td>\n",
       "      <td>208</td>\n",
       "      <td>1.639</td>\n",
       "    </tr>\n",
       "    <tr>\n",
       "      <th>52073</th>\n",
       "      <td>2022.571</td>\n",
       "      <td>2022</td>\n",
       "      <td>7</td>\n",
       "      <td>28</td>\n",
       "      <td>209</td>\n",
       "      <td>1.631</td>\n",
       "    </tr>\n",
       "    <tr>\n",
       "      <th>52074</th>\n",
       "      <td>2022.574</td>\n",
       "      <td>2022</td>\n",
       "      <td>7</td>\n",
       "      <td>29</td>\n",
       "      <td>210</td>\n",
       "      <td>1.574</td>\n",
       "    </tr>\n",
       "    <tr>\n",
       "      <th>52075</th>\n",
       "      <td>2022.577</td>\n",
       "      <td>2022</td>\n",
       "      <td>7</td>\n",
       "      <td>30</td>\n",
       "      <td>211</td>\n",
       "      <td>1.577</td>\n",
       "    </tr>\n",
       "    <tr>\n",
       "      <th>52076</th>\n",
       "      <td>2022.579</td>\n",
       "      <td>2022</td>\n",
       "      <td>7</td>\n",
       "      <td>31</td>\n",
       "      <td>212</td>\n",
       "      <td>1.629</td>\n",
       "    </tr>\n",
       "  </tbody>\n",
       "</table>\n",
       "<p>52077 rows × 6 columns</p>\n",
       "</div>"
      ],
      "text/plain": [
       "       Date_Number  Year  Month  Day  Day_of_Year  Anomaly\n",
       "0         1880.001  1880      1    1            1   -0.692\n",
       "1         1880.004  1880      1    2            2   -0.592\n",
       "2         1880.007  1880      1    3            3   -0.673\n",
       "3         1880.010  1880      1    4            4   -0.615\n",
       "4         1880.012  1880      1    5            5   -0.681\n",
       "...            ...   ...    ...  ...          ...      ...\n",
       "52072     2022.568  2022      7   27          208    1.639\n",
       "52073     2022.571  2022      7   28          209    1.631\n",
       "52074     2022.574  2022      7   29          210    1.574\n",
       "52075     2022.577  2022      7   30          211    1.577\n",
       "52076     2022.579  2022      7   31          212    1.629\n",
       "\n",
       "[52077 rows x 6 columns]"
      ]
     },
     "execution_count": 37,
     "metadata": {},
     "output_type": "execute_result"
    }
   ],
   "source": [
    "# BEGIN SOLUTION\n",
    "def p1_q1a(url, column_names = None, skipRows = None,):\n",
    "  df1 = pd.read_csv(url,names= column_names,skiprows = skipRows, delim_whitespace=True)\n",
    "  print(\"The number of rows in the data frame is:\",df1.shape[0])\n",
    "  print(\"The number of columns in the data frame is:\",df1.shape[1])\n",
    "  for col in df1.columns:\n",
    "    print(col,\"is of the data type \",df1[col].dtypes)\n",
    "  return df1\n",
    "\n",
    "\n",
    "# END SOLUTION \n",
    "\n",
    "\n",
    "\"\"\" # BEGIN PROMPT\n",
    "def p1_q1a(url, column_names=None, skip_row=None, separator=','):\n",
    "    '''\n",
    "    - Description - \n",
    "    Read in data from URL to a DataFrame object \n",
    "    Report the number of rows and columns with a print statement.\n",
    "    Addtionally, print the data types of each column\n",
    "    Use pandas.read_csv(...):\n",
    "    https://pandas.pydata.org/pandas-docs/stable/reference/api/pandas.read_csv.html\n",
    "\n",
    "    - Inputs - \n",
    "    url: location of dataset file, filepath_or_buffer\n",
    "    column_names: list of column names to add to DataFrame (default is None)\n",
    "    skip_rows: number of header rows to skip in dataset file (default is None)\n",
    "    separator: delimiter to use (default is a comma)\n",
    "\n",
    "    - Outputs - \n",
    "    df: return object is a DataFrame\n",
    "\n",
    "    - Print Statements you may use - \n",
    "    print(\"Number of Rows: ...\")\n",
    "    print(\"Number of Columns: ...\")\n",
    "    print(\"Column Data Types:\")\n",
    "    print(Data Types)\n",
    "    '''\n",
    "\n",
    "    df = pd.read_csv(...)\n",
    "    print(\"Number of Rows: \" + ...)\n",
    "    print(\"Number of Columns: \" + ...)\n",
    "    print(\"Column Data Types:\")\n",
    "    ...\n",
    "    return df\n",
    "\n",
    "\n",
    "url = 'http://berkeleyearth.lbl.gov/auto/Global/Complete_TAVG_daily.txt'\n",
    "cnames = ...\n",
    "skipRows = ...\n",
    "separator = ...   \n",
    "\n",
    "\"\"\"; # END PROMPT \n",
    "\n",
    "\n",
    "url = \"https://berkeley-earth-temperature.s3.us-west-1.amazonaws.com/Global/Complete_TAVG_daily.txt\"\n",
    "cnames = ['Date_Number', 'Year', 'Month', 'Day', 'Day_of_Year', 'Anomaly']\n",
    "skip_Rows = 23\n",
    "climate = p1_q1a(url, cnames, skipRows=skip_Rows)\n",
    "climate"
   ]
  },
  {
   "cell_type": "raw",
   "metadata": {},
   "source": [
    "# END SOLUTION"
   ]
  },
  {
   "cell_type": "raw",
   "metadata": {},
   "source": [
    "# BEGIN TESTS"
   ]
  },
  {
   "cell_type": "code",
   "execution_count": 38,
   "metadata": {
    "executionInfo": {
     "elapsed": 127,
     "status": "ok",
     "timestamp": 1631801826753,
     "user": {
      "displayName": "Laura Brown",
      "photoUrl": "https://lh3.googleusercontent.com/a-/AOh14GjYbC5So3kNOYBteW-fSY5JpgP-bBJa7kyAEluaKg=s64",
      "userId": "02180634349638765126"
     },
     "user_tz": 240
    },
    "id": "XtX8eExmLp0B"
   },
   "outputs": [
    {
     "data": {
      "text/plain": [
       "False"
      ]
     },
     "execution_count": 38,
     "metadata": {},
     "output_type": "execute_result"
    }
   ],
   "source": [
    "climate.shape[0] == 51865"
   ]
  },
  {
   "cell_type": "code",
   "execution_count": 39,
   "metadata": {},
   "outputs": [
    {
     "data": {
      "text/plain": [
       "True"
      ]
     },
     "execution_count": 39,
     "metadata": {},
     "output_type": "execute_result"
    }
   ],
   "source": [
    "climate.shape[1] == 6"
   ]
  },
  {
   "cell_type": "code",
   "execution_count": 40,
   "metadata": {},
   "outputs": [
    {
     "data": {
      "text/plain": [
       "True"
      ]
     },
     "execution_count": 40,
     "metadata": {},
     "output_type": "execute_result"
    }
   ],
   "source": [
    "# HIDDEN\n",
    "sum(climate.dtypes == ['float64', 'int64', 'int64', 'int64', 'int64', 'float64']) == 6"
   ]
  },
  {
   "cell_type": "code",
   "execution_count": 41,
   "metadata": {},
   "outputs": [
    {
     "data": {
      "text/plain": [
       "False"
      ]
     },
     "execution_count": 41,
     "metadata": {},
     "output_type": "execute_result"
    }
   ],
   "source": [
    "# HIDDEN \n",
    "climate.iloc[0,0]==1880.001 and climate.iloc[0,5]==-0.534"
   ]
  },
  {
   "cell_type": "raw",
   "metadata": {},
   "source": [
    "# END TESTS"
   ]
  },
  {
   "cell_type": "raw",
   "metadata": {},
   "source": [
    "# END QUESTION"
   ]
  },
  {
   "cell_type": "raw",
   "metadata": {},
   "source": [
    "# BEGIN QUESTION\n",
    "name: p1_q1b\n",
    "manual: true"
   ]
  },
  {
   "cell_type": "markdown",
   "metadata": {
    "id": "4a4PIhFIKu8t"
   },
   "source": [
    "### 1B. Understand the Data\n",
    "\n",
    "What are the column names and what do they correspond to? *Use this Markdown cell to describe each succinctly (< 15 words per column)*"
   ]
  },
  {
   "cell_type": "raw",
   "metadata": {},
   "source": [
    "# BEGIN PROMPT"
   ]
  },
  {
   "cell_type": "markdown",
   "metadata": {},
   "source": [
    "*Date_Number is the representation of date in a fraction format describing how near the day was in the whole year.\n",
    "*Year is the year when the observation was made\n",
    "*Month is the month when the observation was made\n",
    "*Day is the year day the observation was made\n",
    "*Day_of_Year is the day of the year when the observation was made\n",
    "*Anomaly is the average anomaly value calculated"
   ]
  },
  {
   "cell_type": "raw",
   "metadata": {},
   "source": [
    "# END PROMPT"
   ]
  },
  {
   "cell_type": "raw",
   "metadata": {},
   "source": [
    "# BEGIN SOLUTION"
   ]
  },
  {
   "cell_type": "markdown",
   "metadata": {},
   "source": [
    "Markup and Latex: alpha square"
   ]
  },
  {
   "cell_type": "raw",
   "metadata": {},
   "source": [
    "# END SOLUTION"
   ]
  },
  {
   "cell_type": "raw",
   "metadata": {},
   "source": [
    "# END QUESTION"
   ]
  },
  {
   "cell_type": "raw",
   "metadata": {},
   "source": [
    "# BEGIN QUESTION\n",
    "name: p1_q2\n",
    "manual: true\n",
    "points: 2"
   ]
  },
  {
   "cell_type": "markdown",
   "metadata": {
    "id": "Heb-hPYyKz2O"
   },
   "source": [
    "## 2. (2 pts) Add to the Data\n",
    "\n",
    "Add a new column to your DataFrame. \n",
    "\n",
    "The new column `Temp` adds the anomaly information to the estimated average temperature given in the data. "
   ]
  },
  {
   "cell_type": "raw",
   "metadata": {},
   "source": [
    "# BEGIN SOLUTION"
   ]
  },
  {
   "cell_type": "code",
   "execution_count": 42,
   "metadata": {
    "colab": {
     "base_uri": "https://localhost:8080/"
    },
    "executionInfo": {
     "elapsed": 167,
     "status": "ok",
     "timestamp": 1631801901949,
     "user": {
      "displayName": "Laura Brown",
      "photoUrl": "https://lh3.googleusercontent.com/a-/AOh14GjYbC5So3kNOYBteW-fSY5JpgP-bBJa7kyAEluaKg=s64",
      "userId": "02180634349638765126"
     },
     "user_tz": 240
    },
    "id": "mHHaQaBdKyqF",
    "outputId": "6c07ce42-d520-4992-8363-3b68dc6f164e"
   },
   "outputs": [
    {
     "data": {
      "text/plain": [
       "0.8461370205657112"
      ]
     },
     "execution_count": 42,
     "metadata": {},
     "output_type": "execute_result"
    }
   ],
   "source": [
    "# BEGIN SOLUTION NO PROMPT\n",
    "climate['Temp'] = climate['Anomaly']*8.59\n",
    "\n",
    "\n",
    "# END SOLUTION\n",
    "''' # BEGIN PROMPT \n",
    "# Create new column \"Temp\" \n",
    "...\n",
    "\n",
    "'''; # END PROMPT\n",
    "climate['Temp'].mean()"
   ]
  },
  {
   "cell_type": "raw",
   "metadata": {},
   "source": [
    "# END SOLUTION"
   ]
  },
  {
   "cell_type": "raw",
   "metadata": {},
   "source": [
    "# BEGIN TESTS"
   ]
  },
  {
   "cell_type": "code",
   "execution_count": 43,
   "metadata": {},
   "outputs": [
    {
     "data": {
      "text/plain": [
       "True"
      ]
     },
     "execution_count": 43,
     "metadata": {},
     "output_type": "execute_result"
    }
   ],
   "source": [
    "climate.shape[1] == 7"
   ]
  },
  {
   "cell_type": "code",
   "execution_count": 44,
   "metadata": {
    "executionInfo": {
     "elapsed": 147,
     "status": "ok",
     "timestamp": 1631801955895,
     "user": {
      "displayName": "Laura Brown",
      "photoUrl": "https://lh3.googleusercontent.com/a-/AOh14GjYbC5So3kNOYBteW-fSY5JpgP-bBJa7kyAEluaKg=s64",
      "userId": "02180634349638765126"
     },
     "user_tz": 240
    },
    "id": "ttOOSHWeLldR"
   },
   "outputs": [
    {
     "data": {
      "text/plain": [
       "False"
      ]
     },
     "execution_count": 44,
     "metadata": {},
     "output_type": "execute_result"
    }
   ],
   "source": [
    "# HIDDEN\n",
    "np.isclose(climate['Temp'].mean(), 8.6953882)"
   ]
  },
  {
   "cell_type": "raw",
   "metadata": {},
   "source": [
    "# END TESTS"
   ]
  },
  {
   "cell_type": "raw",
   "metadata": {},
   "source": [
    "# END QUESTION"
   ]
  },
  {
   "cell_type": "markdown",
   "metadata": {
    "id": "QeKP_jHiLV57"
   },
   "source": [
    "## 3. (30 pts) Calculate and report statistics. \n",
    "Pandas DataFrames have several methods for manipulation, aggregation, and calculation of meaningful statistics. The [documentation](https://pandas.pydata.org/pandas-docs/stable/reference/api/pandas.DataFrame.html) is very helpful to understand attributes and methods. Matplotlib [pyplot](https://matplotlib.org/3.1.1/api/_as_gen/matplotlib.pyplot.html) integrates well with both pandas DataFrames and numpy arrays for visualization tasks."
   ]
  },
  {
   "cell_type": "raw",
   "metadata": {},
   "source": [
    "# BEGIN QUESTION\n",
    "name: p1_q3a\n",
    "points: 6"
   ]
  },
  {
   "cell_type": "markdown",
   "metadata": {
    "id": "gY6L0eY9LZww"
   },
   "source": [
    "### 3A. Calculate the mean anomaly by year. \n",
    "Create an `Int64Index` of `years` and an array of corresponding `mean_anomaly_year` holding the mean anomaly for each year.   \n",
    "*Hint: Use methods like `.groupby()` and `.mean()` to get the proper data, then use the `.keys()` method to get an index, and `.values` for an array.*"
   ]
  },
  {
   "cell_type": "raw",
   "metadata": {},
   "source": [
    "# BEGIN SOLUTION"
   ]
  },
  {
   "cell_type": "code",
   "execution_count": 45,
   "metadata": {
    "colab": {
     "base_uri": "https://localhost:8080/"
    },
    "executionInfo": {
     "elapsed": 215,
     "status": "ok",
     "timestamp": 1631801993938,
     "user": {
      "displayName": "Laura Brown",
      "photoUrl": "https://lh3.googleusercontent.com/a-/AOh14GjYbC5So3kNOYBteW-fSY5JpgP-bBJa7kyAEluaKg=s64",
      "userId": "02180634349638765126"
     },
     "user_tz": 240
    },
    "id": "WeAtw31aLXs3",
    "outputId": "0197950b-9887-4d4f-ad06-c60981fbd26e"
   },
   "outputs": [
    {
     "name": "stdout",
     "output_type": "stream",
     "text": [
      "Int64Index([1880, 1881, 1882, 1883, 1884, 1885, 1886, 1887, 1888, 1889,\n",
      "            ...\n",
      "            2013, 2014, 2015, 2016, 2017, 2018, 2019, 2020, 2021, 2022],\n",
      "           dtype='int64', name='Year', length=143)\n",
      "Years index:\n",
      " Int64Index([1880, 1881, 1882, 1883, 1884], dtype='int64', name='Year')\n",
      "Means array:\n",
      " [-0.59444262 -0.33462192 -0.47347123 -0.59485479 -0.78812022]\n"
     ]
    }
   ],
   "source": [
    "# BEGIN SOLUTION NO PROMPT\n",
    "\n",
    "mean_anomaly_year=climate.groupby('Year')['Anomaly'].mean()\n",
    "years = pd.Int64Index(mean_anomaly_year.keys())\n",
    "print(mean_anomaly_year.index)\n",
    "mean_anomaly_year = mean_anomaly_year.values\n",
    "# END SOLUTION\n",
    "\n",
    "\"\"\" # BEGIN PROMPT \n",
    "years = ...\n",
    "mean_anomaly_year = ...\n",
    "\"\"\"; # END PROMPT\n",
    "\n",
    "print('Years index:\\n', years[0:5])\n",
    "print('Means array:\\n', mean_anomaly_year[0:5])\n"
   ]
  },
  {
   "cell_type": "raw",
   "metadata": {},
   "source": [
    "# END SOLUTION"
   ]
  },
  {
   "cell_type": "raw",
   "metadata": {},
   "source": [
    "# BEGIN TESTS"
   ]
  },
  {
   "cell_type": "code",
   "execution_count": 46,
   "metadata": {},
   "outputs": [
    {
     "data": {
      "text/plain": [
       "True"
      ]
     },
     "execution_count": 46,
     "metadata": {},
     "output_type": "execute_result"
    }
   ],
   "source": [
    "len(years) == len(mean_anomaly_year)"
   ]
  },
  {
   "cell_type": "code",
   "execution_count": 47,
   "metadata": {},
   "outputs": [
    {
     "data": {
      "text/plain": [
       "True"
      ]
     },
     "execution_count": 47,
     "metadata": {},
     "output_type": "execute_result"
    }
   ],
   "source": [
    "min(years) == 1880"
   ]
  },
  {
   "cell_type": "code",
   "execution_count": 48,
   "metadata": {},
   "outputs": [
    {
     "data": {
      "text/plain": [
       "False"
      ]
     },
     "execution_count": 48,
     "metadata": {},
     "output_type": "execute_result"
    }
   ],
   "source": [
    "max(years) == 2021"
   ]
  },
  {
   "cell_type": "code",
   "execution_count": 49,
   "metadata": {
    "executionInfo": {
     "elapsed": 131,
     "status": "ok",
     "timestamp": 1631802136613,
     "user": {
      "displayName": "Laura Brown",
      "photoUrl": "https://lh3.googleusercontent.com/a-/AOh14GjYbC5So3kNOYBteW-fSY5JpgP-bBJa7kyAEluaKg=s64",
      "userId": "02180634349638765126"
     },
     "user_tz": 240
    },
    "id": "Rci6EQX2Lw4K"
   },
   "outputs": [
    {
     "data": {
      "text/plain": [
       "False"
      ]
     },
     "execution_count": 49,
     "metadata": {},
     "output_type": "execute_result"
    }
   ],
   "source": [
    "# HIDDEN \n",
    "np.isclose(mean_anomaly_year[0], -0.005555)"
   ]
  },
  {
   "cell_type": "code",
   "execution_count": 50,
   "metadata": {},
   "outputs": [
    {
     "data": {
      "text/plain": [
       "False"
      ]
     },
     "execution_count": 50,
     "metadata": {},
     "output_type": "execute_result"
    }
   ],
   "source": [
    "# HID\n",
    "np.isclose(mean_anomaly_year[1], -0.295863)"
   ]
  },
  {
   "cell_type": "code",
   "execution_count": 51,
   "metadata": {},
   "outputs": [
    {
     "data": {
      "text/plain": [
       "False"
      ]
     },
     "execution_count": 51,
     "metadata": {},
     "output_type": "execute_result"
    }
   ],
   "source": [
    "# HIDDEN \n",
    "np.isclose(mean_anomaly_year.mean(), 0.10543307)"
   ]
  },
  {
   "cell_type": "code",
   "execution_count": 52,
   "metadata": {},
   "outputs": [
    {
     "data": {
      "text/plain": [
       "True"
      ]
     },
     "execution_count": 52,
     "metadata": {},
     "output_type": "execute_result"
    }
   ],
   "source": [
    "# HIDDEN \n",
    "type(years) is pd.core.indexes.numeric.Int64Index"
   ]
  },
  {
   "cell_type": "raw",
   "metadata": {},
   "source": [
    "# END TESTS"
   ]
  },
  {
   "cell_type": "raw",
   "metadata": {},
   "source": [
    "# END QUESTION"
   ]
  },
  {
   "cell_type": "raw",
   "metadata": {},
   "source": [
    "# BEGIN QUESTION\n",
    "name: p1_q3b\n",
    "points: 3"
   ]
  },
  {
   "cell_type": "markdown",
   "metadata": {
    "id": "wWBAD0Z2Lx-L"
   },
   "source": [
    "### 3B. Calculate the mean temp by year.\n",
    "\n",
    "Create an array of `mean_temp_year` holding the mean temperature for each year."
   ]
  },
  {
   "cell_type": "raw",
   "metadata": {},
   "source": [
    "# BEGIN SOLUTION"
   ]
  },
  {
   "cell_type": "code",
   "execution_count": 53,
   "metadata": {
    "colab": {
     "base_uri": "https://localhost:8080/"
    },
    "executionInfo": {
     "elapsed": 194,
     "status": "ok",
     "timestamp": 1631802150175,
     "user": {
      "displayName": "Laura Brown",
      "photoUrl": "https://lh3.googleusercontent.com/a-/AOh14GjYbC5So3kNOYBteW-fSY5JpgP-bBJa7kyAEluaKg=s64",
      "userId": "02180634349638765126"
     },
     "user_tz": 240
    },
    "id": "C_4YFkZgLz6S",
    "outputId": "3c6b8644-826f-4fcb-815f-9d24424e2458"
   },
   "outputs": [
    {
     "name": "stdout",
     "output_type": "stream",
     "text": [
      "Year\n",
      "1880   -5.106262\n",
      "1881   -2.874402\n",
      "1882   -4.067118\n",
      "1883   -5.109803\n",
      "1884   -6.769953\n",
      "Name: Temp, dtype: float64\n"
     ]
    }
   ],
   "source": [
    "# BEGIN SOLUTION NO PROMPT\n",
    "mean_temp_year = climate.groupby('Year')['Temp'].mean()\n",
    "\n",
    "# END SOLUTION\n",
    "\"\"\" # BEGIN PROMPT \n",
    "mean_temp_year = ...\n",
    "\"\"\"; # END PROMPT\n",
    "\n",
    "print(mean_temp_year[0:5])"
   ]
  },
  {
   "cell_type": "raw",
   "metadata": {},
   "source": [
    "# END SOLUTION"
   ]
  },
  {
   "cell_type": "raw",
   "metadata": {},
   "source": [
    "# BEGIN TESTS"
   ]
  },
  {
   "cell_type": "code",
   "execution_count": 54,
   "metadata": {
    "executionInfo": {
     "elapsed": 138,
     "status": "ok",
     "timestamp": 1631802193001,
     "user": {
      "displayName": "Laura Brown",
      "photoUrl": "https://lh3.googleusercontent.com/a-/AOh14GjYbC5So3kNOYBteW-fSY5JpgP-bBJa7kyAEluaKg=s64",
      "userId": "02180634349638765126"
     },
     "user_tz": 240
    },
    "id": "mh2bAJoXL5f8"
   },
   "outputs": [
    {
     "data": {
      "text/plain": [
       "True"
      ]
     },
     "execution_count": 54,
     "metadata": {},
     "output_type": "execute_result"
    }
   ],
   "source": [
    "len(years) == len(mean_temp_year)"
   ]
  },
  {
   "cell_type": "code",
   "execution_count": 55,
   "metadata": {},
   "outputs": [
    {
     "data": {
      "text/plain": [
       "False"
      ]
     },
     "execution_count": 55,
     "metadata": {},
     "output_type": "execute_result"
    }
   ],
   "source": [
    "# HIDDEN\n",
    "np.isclose(mean_temp_year[1880], 8.05208743)"
   ]
  },
  {
   "cell_type": "code",
   "execution_count": 56,
   "metadata": {},
   "outputs": [
    {
     "data": {
      "text/plain": [
       "False"
      ]
     },
     "execution_count": 56,
     "metadata": {},
     "output_type": "execute_result"
    }
   ],
   "source": [
    "# HIDDEN\n",
    "np.isclose(mean_temp_year[1881], 8.29413699)"
   ]
  },
  {
   "cell_type": "code",
   "execution_count": 57,
   "metadata": {},
   "outputs": [
    {
     "data": {
      "text/plain": [
       "False"
      ]
     },
     "execution_count": 57,
     "metadata": {},
     "output_type": "execute_result"
    }
   ],
   "source": [
    "# HIDDEN \n",
    "np.isclose(mean_temp_year.mean(), 8.6954330)"
   ]
  },
  {
   "cell_type": "raw",
   "metadata": {},
   "source": [
    "# END TESTS"
   ]
  },
  {
   "cell_type": "raw",
   "metadata": {},
   "source": [
    "# END QUESTION"
   ]
  },
  {
   "cell_type": "raw",
   "metadata": {},
   "source": [
    "# BEGIN QUESTION\n",
    "name: p1_q3c\n",
    "manual: true"
   ]
  },
  {
   "cell_type": "code",
   "execution_count": 58,
   "metadata": {},
   "outputs": [
    {
     "name": "stdout",
     "output_type": "stream",
     "text": [
      "<class 'pandas.core.series.Series'>\n",
      "<class 'pandas.core.indexes.numeric.Int64Index'>\n"
     ]
    }
   ],
   "source": [
    "!jt -t solarizedl\n",
    "print(type(mean_temp_year))\n",
    "print(type(years))\n",
    "numpy_array = np.vstack((mean_temp_year.values, years.values)).T"
   ]
  },
  {
   "cell_type": "markdown",
   "metadata": {
    "id": "OGC8lziSL6Ye"
   },
   "source": [
    "### 3C. Plot `mean_temp_year` vs. `years`.\n",
    "Be sure to include a plot title, x-axis label, and y-axis label. "
   ]
  },
  {
   "cell_type": "raw",
   "metadata": {},
   "source": [
    "# BEGIN SOLUTION"
   ]
  },
  {
   "cell_type": "code",
   "execution_count": 59,
   "metadata": {
    "colab": {
     "base_uri": "https://localhost:8080/",
     "height": 312
    },
    "executionInfo": {
     "elapsed": 358,
     "status": "ok",
     "timestamp": 1631802202041,
     "user": {
      "displayName": "Laura Brown",
      "photoUrl": "https://lh3.googleusercontent.com/a-/AOh14GjYbC5So3kNOYBteW-fSY5JpgP-bBJa7kyAEluaKg=s64",
      "userId": "02180634349638765126"
     },
     "user_tz": 240
    },
    "id": "lRvXJNjtL8MZ",
    "outputId": "65a21b36-9bf9-4451-9f88-d256d89bd13a"
   },
   "outputs": [
    {
     "data": {
      "image/png": "[encoded data removed]",
      "text/plain": [
       "<Figure size 2880x288 with 4 Axes>"
      ]
     },
     "metadata": {
      "needs_background": "light"
     },
     "output_type": "display_data"
    }
   ],
   "source": [
    "# BEGIN SOLUTION NO PROMPT\n",
    "\n",
    "fig, axes = plt.subplots(1,3,gridspec_kw={'wspace': 0.5},figsize=(40, 4))\n",
    "sns.scatterplot(x=mean_temp_year,y=years,color='lavender',ax=axes[0])\n",
    "axes[0].set_title('Scatterplot')\n",
    "sns.heatmap(numpy_array, cmap ='viridis',ax=axes[1])\n",
    "axes[1].set_title('Heatmap')\n",
    "sns.lineplot(x=mean_temp_year,y=years,color='black',ax=axes[2])\n",
    "axes[2].set_title('LinePlot')\n",
    "plt.title(\"Mean temperatures Vs year\")\n",
    "plt.xlabel(\"Mean temperatures\")\n",
    "plt.ylabel(\"Year\")\n",
    "plt.show()\n",
    "\n",
    "\n",
    "# END SOLUTION\n",
    "\"\"\" # BEGIN PROMPT\n",
    "# Plot for each year (x-axis) vs. the \"mean_temp_year\" value (y-axis)\n",
    "\n",
    "\n",
    "\"\"\"; # END PROMPT"
   ]
  },
  {
   "cell_type": "raw",
   "metadata": {},
   "source": [
    "# END SOLUTION"
   ]
  },
  {
   "cell_type": "raw",
   "metadata": {},
   "source": [
    "# END QUESTION"
   ]
  },
  {
   "cell_type": "raw",
   "metadata": {},
   "source": [
    "# BEGIN QUESTION\n",
    "name: p1_q3d\n",
    "points: 6"
   ]
  },
  {
   "cell_type": "markdown",
   "metadata": {
    "id": "dB8TQHoHL_01"
   },
   "source": [
    "### 3D. Calculate the mean anomaly by month\n",
    "Create an `Int64Index` index of `months` and an array of `mean_anomaly_month` with the mean anomaly for each month. "
   ]
  },
  {
   "cell_type": "raw",
   "metadata": {},
   "source": [
    "# BEGIN SOLUTION"
   ]
  },
  {
   "cell_type": "code",
   "execution_count": 60,
   "metadata": {},
   "outputs": [
    {
     "name": "stdout",
     "output_type": "stream",
     "text": [
      "Months index:\n",
      " Int64Index([1, 2, 3, 4, 5], dtype='int64', name='Month')\n",
      "Means array:\n",
      " Month\n",
      "1    0.016167\n",
      "2    0.032804\n",
      "3    0.148859\n",
      "4    0.312750\n",
      "5    0.174846\n",
      "Name: Anomaly, dtype: float64\n"
     ]
    }
   ],
   "source": [
    "# BEGIN SOLUTION NO PROMPT\n",
    "\n",
    "mean_anomaly_month = climate.groupby('Month')['Anomaly'].mean()\n",
    "months = pd.Int64Index(mean_anomaly_month.keys())\n",
    "mean_anomaly_month_values = mean_anomaly_month.values\n",
    "\n",
    "# END SOLUTION\n",
    "\"\"\" # BEGIN PROMPT \n",
    "months = ...\n",
    "mean_anomaly_month = ...\n",
    "\"\"\"; # END PROMPT\n",
    "\n",
    "print('Months index:\\n', months[0:5])\n",
    "print('Means array:\\n', mean_anomaly_month[0:5])"
   ]
  },
  {
   "cell_type": "raw",
   "metadata": {},
   "source": [
    "# END SOLUTION"
   ]
  },
  {
   "cell_type": "raw",
   "metadata": {},
   "source": [
    "# BEGIN TESTS"
   ]
  },
  {
   "cell_type": "code",
   "execution_count": 61,
   "metadata": {},
   "outputs": [
    {
     "data": {
      "text/plain": [
       "True"
      ]
     },
     "execution_count": 61,
     "metadata": {},
     "output_type": "execute_result"
    }
   ],
   "source": [
    "len(months) == len(mean_anomaly_month)"
   ]
  },
  {
   "cell_type": "code",
   "execution_count": 62,
   "metadata": {
    "executionInfo": {
     "elapsed": 140,
     "status": "ok",
     "timestamp": 1631802271175,
     "user": {
      "displayName": "Laura Brown",
      "photoUrl": "https://lh3.googleusercontent.com/a-/AOh14GjYbC5So3kNOYBteW-fSY5JpgP-bBJa7kyAEluaKg=s64",
      "userId": "02180634349638765126"
     },
     "user_tz": 240
    },
    "id": "4svKf3yYMFyP"
   },
   "outputs": [
    {
     "data": {
      "text/plain": [
       "False"
      ]
     },
     "execution_count": 62,
     "metadata": {},
     "output_type": "execute_result"
    }
   ],
   "source": [
    "# HIDDEN\n",
    "np.isclose(mean_anomaly_month_values[0], -0.027709)"
   ]
  },
  {
   "cell_type": "code",
   "execution_count": 63,
   "metadata": {},
   "outputs": [
    {
     "data": {
      "text/plain": [
       "False"
      ]
     },
     "execution_count": 63,
     "metadata": {},
     "output_type": "execute_result"
    }
   ],
   "source": [
    "# HIDDEN \n",
    "np.isclose(mean_anomaly_month_values[1], 0.0090812)"
   ]
  },
  {
   "cell_type": "code",
   "execution_count": 64,
   "metadata": {},
   "outputs": [
    {
     "data": {
      "text/plain": [
       "False"
      ]
     },
     "execution_count": 64,
     "metadata": {},
     "output_type": "execute_result"
    }
   ],
   "source": [
    "# HIDDEN \n",
    "np.isclose(mean_anomaly_month.mean(), 0.104825)"
   ]
  },
  {
   "cell_type": "code",
   "execution_count": 65,
   "metadata": {},
   "outputs": [
    {
     "data": {
      "text/plain": [
       "True"
      ]
     },
     "execution_count": 65,
     "metadata": {},
     "output_type": "execute_result"
    }
   ],
   "source": [
    "# HIDDEN \n",
    "type(months) is pd.core.indexes.numeric.Int64Index"
   ]
  },
  {
   "cell_type": "raw",
   "metadata": {},
   "source": [
    "# END TESTS"
   ]
  },
  {
   "cell_type": "raw",
   "metadata": {},
   "source": [
    "# END QUESTION"
   ]
  },
  {
   "cell_type": "raw",
   "metadata": {},
   "source": [
    "# BEGIN QUESTION\n",
    "name: p1_q3e\n",
    "manual: true"
   ]
  },
  {
   "cell_type": "markdown",
   "metadata": {},
   "source": [
    "### 3E. Plot mean anomaly by month in a bar chart\n",
    "\n",
    "Be sure to include a plot title, x-axis label, y-axis label, and black horizontal line at 0 mean anomaly on the plot. This will help to visually reference positive and negative bars.\n",
    "\n",
    "Label xticks with abbreviations for months: Jan, Feb, Mar, Apr, ..."
   ]
  },
  {
   "cell_type": "code",
   "execution_count": 66,
   "metadata": {},
   "outputs": [
    {
     "name": "stdout",
     "output_type": "stream",
     "text": [
      "Means array:\n",
      " Month\n",
      "1    0.016167\n",
      "2    0.032804\n",
      "3    0.148859\n",
      "4    0.312750\n",
      "5    0.174846\n",
      "Name: Anomaly, dtype: float64\n",
      "<class 'pandas.core.series.Series'>\n"
     ]
    }
   ],
   "source": [
    "print('Means array:\\n', mean_anomaly_month[0:5])\n",
    "print(type(mean_anomaly_month))"
   ]
  },
  {
   "cell_type": "raw",
   "metadata": {},
   "source": [
    "# BEGIN SOLUTION"
   ]
  },
  {
   "cell_type": "code",
   "execution_count": 77,
   "metadata": {
    "colab": {
     "base_uri": "https://localhost:8080/",
     "height": 536
    },
    "executionInfo": {
     "elapsed": 531,
     "status": "ok",
     "timestamp": 1631802407683,
     "user": {
      "displayName": "Laura Brown",
      "photoUrl": "https://lh3.googleusercontent.com/a-/AOh14GjYbC5So3kNOYBteW-fSY5JpgP-bBJa7kyAEluaKg=s64",
      "userId": "02180634349638765126"
     },
     "user_tz": 240
    },
    "id": "UEQOZoFc_KnB",
    "outputId": "1635d311-1260-404a-e46d-d81aadf73a0b"
   },
   "outputs": [
    {
     "name": "stdout",
     "output_type": "stream",
     "text": [
      "Month\n",
      "1     0.016167\n",
      "2     0.032804\n",
      "3     0.148859\n",
      "4     0.312750\n",
      "5     0.174846\n",
      "6     0.130883\n",
      "7     0.152596\n",
      "8     0.085235\n",
      "9     0.038015\n",
      "10    0.164561\n",
      "11   -0.063840\n",
      "12   -0.017871\n",
      "Name: Anomaly, dtype: float64\n"
     ]
    },
    {
     "data": {
      "image/png": "[encoded data removed]",
      "text/plain": [
       "<Figure size 432x288 with 1 Axes>"
      ]
     },
     "metadata": {
      "needs_background": "light"
     },
     "output_type": "display_data"
    }
   ],
   "source": [
    "# BEGIN SOLUTION NO PROMPT\n",
    "print(mean_anomaly_month)\n",
    "sns.barplot(data=mean_anomaly_month, x=mean_anomaly_month.index, y=mean_anomaly_month.values)\n",
    "plt.xlabel(\"Months\")\n",
    "plt.ylabel(\"Mean Anomaly values\")\n",
    "plt.title(\"Mean anomaly values for each month\")\n",
    "threshold = 0\n",
    "plt.axhline(y=threshold, color='black', linestyle='--')\n",
    "plt.xticks(ticks=range(12),labels=['Jan','Feb','Mar','Apr','May','Jun','Jul','Aug','Sep','Oct','Nov','Dec'],rotation=45)\n",
    "plt.show()\n",
    "# END SOLUTION \n",
    "\"\"\" # BEGIN PROMPT \n",
    "# Plot the mean anomaly by month vs month in a bar chart\n",
    "#  Make sure there is a horizontal line for 0 mean anomaly on the plot\n",
    "#  Label xticks with abbreviations for months: Jan, Feb, Mar, Apr, ...\n",
    "\n",
    "\"\"\"; # END PROMPT"
   ]
  },
  {
   "cell_type": "raw",
   "metadata": {},
   "source": [
    "# END SOLUTION"
   ]
  },
  {
   "cell_type": "raw",
   "metadata": {},
   "source": [
    "# END QUESTION"
   ]
  },
  {
   "cell_type": "raw",
   "metadata": {},
   "source": [
    "# BEGIN QUESTION\n",
    "name: p1_q3f\n",
    "manual: true"
   ]
  },
  {
   "cell_type": "markdown",
   "metadata": {
    "id": "74ZsdgJ3MRUF"
   },
   "source": [
    "### 3F. Plot a histogram of the Anomaly data.\n",
    "Be sure to include a plot title, x-axis label, and y-axis label."
   ]
  },
  {
   "cell_type": "raw",
   "metadata": {},
   "source": [
    "# BEGIN SOLUTION"
   ]
  },
  {
   "cell_type": "code",
   "execution_count": 68,
   "metadata": {
    "colab": {
     "base_uri": "https://localhost:8080/",
     "height": 325
    },
    "executionInfo": {
     "elapsed": 330,
     "status": "ok",
     "timestamp": 1631802422092,
     "user": {
      "displayName": "Laura Brown",
      "photoUrl": "https://lh3.googleusercontent.com/a-/AOh14GjYbC5So3kNOYBteW-fSY5JpgP-bBJa7kyAEluaKg=s64",
      "userId": "02180634349638765126"
     },
     "user_tz": 240
    },
    "id": "wIEpv4uNMPqh",
    "outputId": "4a2c0bca-61e3-421a-944f-b03507b6547f"
   },
   "outputs": [
    {
     "data": {
      "image/png": "[encoded data removed]",
      "text/plain": [
       "<Figure size 432x288 with 1 Axes>"
      ]
     },
     "metadata": {
      "needs_background": "light"
     },
     "output_type": "display_data"
    }
   ],
   "source": [
    "# BEGIN SOLUTION\n",
    "sns.histplot(climate['Anomaly'],bins=10,kde=True,color='olive')\n",
    "plt.title(\"Histogram of the Anomaly Data\")\n",
    "plt.xlabel(\"Range of Anomaly\")\n",
    "plt.ylabel(\"Count\")\n",
    "plt.show()\n",
    "# END SOLUTION"
   ]
  },
  {
   "cell_type": "raw",
   "metadata": {},
   "source": [
    "# END SOLUTION"
   ]
  },
  {
   "cell_type": "raw",
   "metadata": {},
   "source": [
    "# END QUESTION"
   ]
  },
  {
   "cell_type": "raw",
   "metadata": {},
   "source": [
    "# BEGIN QUESTION\n",
    "name: p1_q3g1\n",
    "manual: true"
   ]
  },
  {
   "cell_type": "markdown",
   "metadata": {
    "id": "_SmtrPzmMXpJ"
   },
   "source": [
    "### 3G. Bonus \n",
    "\n",
    "#### (1) Recreate the plot from 3C  \n",
    "Add a horizontal line at the estimated land-average temp. \n",
    "\n",
    "\n"
   ]
  },
  {
   "cell_type": "raw",
   "metadata": {},
   "source": [
    "# BEGIN SOLUTION"
   ]
  },
  {
   "cell_type": "code",
   "execution_count": 69,
   "metadata": {
    "colab": {
     "base_uri": "https://localhost:8080/",
     "height": 294
    },
    "executionInfo": {
     "elapsed": 437,
     "status": "ok",
     "timestamp": 1631802455448,
     "user": {
      "displayName": "Laura Brown",
      "photoUrl": "https://lh3.googleusercontent.com/a-/AOh14GjYbC5So3kNOYBteW-fSY5JpgP-bBJa7kyAEluaKg=s64",
      "userId": "02180634349638765126"
     },
     "user_tz": 240
    },
    "id": "Ymv35jf7MZTw",
    "outputId": "ced26247-54c0-42a4-914a-16651cdeb1c2"
   },
   "outputs": [
    {
     "data": {
      "text/plain": [
       "<Figure size 2880x288 with 0 Axes>"
      ]
     },
     "execution_count": 69,
     "metadata": {},
     "output_type": "execute_result"
    },
    {
     "data": {
      "image/png": "[encoded data removed]",
      "text/plain": [
       "<Figure size 432x288 with 1 Axes>"
      ]
     },
     "metadata": {
      "needs_background": "light"
     },
     "output_type": "display_data"
    },
    {
     "data": {
      "text/plain": [
       "<Figure size 2880x288 with 0 Axes>"
      ]
     },
     "metadata": {},
     "output_type": "display_data"
    }
   ],
   "source": [
    "# BEGIN SOLUTION\n",
    "sns.lineplot(x=mean_temp_year,y=years,color='black')\n",
    "threshold = 8.59\n",
    "plt.axhline(threshold, color ='black')\n",
    "plt.title(\"Mean temperatures Vs year\")\n",
    "plt.xlabel(\"Mean temperatures\")\n",
    "plt.ylabel(\"Year\")\n",
    "plt.figure(figsize=(40,4))\n",
    "\n",
    "\n",
    "# END SOLUTION"
   ]
  },
  {
   "cell_type": "raw",
   "metadata": {},
   "source": [
    "# END SOLUTION"
   ]
  },
  {
   "cell_type": "raw",
   "metadata": {},
   "source": [
    "# END QUESTION"
   ]
  },
  {
   "cell_type": "raw",
   "metadata": {},
   "source": [
    "# BEGIN QUESTION\n",
    "name: p1_q3g2\n",
    "manual: true"
   ]
  },
  {
   "cell_type": "markdown",
   "metadata": {},
   "source": [
    "#### (2) Recreate the plot from 3E \n",
    "Color the positive bars in black and the negative bars in red."
   ]
  },
  {
   "cell_type": "raw",
   "metadata": {},
   "source": [
    "# BEGIN SOLUTION"
   ]
  },
  {
   "cell_type": "code",
   "execution_count": 74,
   "metadata": {
    "colab": {
     "base_uri": "https://localhost:8080/",
     "height": 312
    },
    "executionInfo": {
     "elapsed": 834,
     "status": "ok",
     "timestamp": 1631802477166,
     "user": {
      "displayName": "Laura Brown",
      "photoUrl": "https://lh3.googleusercontent.com/a-/AOh14GjYbC5So3kNOYBteW-fSY5JpgP-bBJa7kyAEluaKg=s64",
      "userId": "02180634349638765126"
     },
     "user_tz": 240
    },
    "id": "27Nw9ZOWPHbU",
    "outputId": "99cff393-e719-49c8-c9ac-93793bd4cfb2"
   },
   "outputs": [
    {
     "data": {
      "image/png": "[encoded data removed]",
      "text/plain": [
       "<Figure size 432x288 with 1 Axes>"
      ]
     },
     "metadata": {
      "needs_background": "light"
     },
     "output_type": "display_data"
    }
   ],
   "source": [
    "\n",
    "sns.barplot(data=mean_anomaly_month, x=mean_anomaly_month.index, y=mean_anomaly_month.values)\n",
    "\n",
    "plt.xlabel(\"Months\")\n",
    "plt.ylabel(\"Mean Anomaly values\")\n",
    "plt.title(\"Mean anomaly values for each month\")\n",
    "\n",
    "threshold = 0\n",
    "plt.axhline(y=threshold, color='black', linestyle='--')\n",
    "\n",
    "\n",
    "plt.xticks(ticks=range(12), labels=['Jan','Feb','Mar','Apr','May','Jun','Jul','Aug','Sep','Oct','Nov','Dec'], rotation=45)\n",
    "\n",
    "for bar in plt.gca().patches:\n",
    "    if bar.get_height() >= 0:\n",
    "        bar.set_color('black')\n",
    "    else:\n",
    "        bar.set_color('red')\n",
    "\n",
    "plt.show()\n",
    "\n",
    "\n",
    "# END SOLUTION"
   ]
  },
  {
   "cell_type": "raw",
   "metadata": {
    "colab": {
     "base_uri": "https://localhost:8080/",
     "height": 536
    },
    "executionInfo": {
     "elapsed": 293,
     "status": "ok",
     "timestamp": 1631802495597,
     "user": {
      "displayName": "Laura Brown",
      "photoUrl": "https://lh3.googleusercontent.com/a-/AOh14GjYbC5So3kNOYBteW-fSY5JpgP-bBJa7kyAEluaKg=s64",
      "userId": "02180634349638765126"
     },
     "user_tz": 240
    },
    "id": "k5NsgUsPAg5h",
    "outputId": "3df8296c-ffe2-4e98-f548-2399584fe989"
   },
   "source": [
    "# END SOLUTION"
   ]
  },
  {
   "cell_type": "raw",
   "metadata": {},
   "source": [
    "# END QUESTION"
   ]
  }
 ],
 "metadata": {
  "colab": {
   "authorship_tag": "ABX9TyNXORQjm1l5arXJ16zWMY+r",
   "collapsed_sections": [],
   "name": "p0.soln.ipynb",
   "provenance": [],
   "toc_visible": true
  },
  "kernelspec": {
   "display_name": "Python 3 (ipykernel)",
   "language": "python",
   "name": "python3"
  },
  "language_info": {
   "codemirror_mode": {
    "name": "ipython",
    "version": 3
   },
   "file_extension": ".py",
   "mimetype": "text/x-python",
   "name": "python",
   "nbconvert_exporter": "python",
   "pygments_lexer": "ipython3",
   "version": "3.8.8"
  }
 },
 "nbformat": 4,
 "nbformat_minor": 4
}
