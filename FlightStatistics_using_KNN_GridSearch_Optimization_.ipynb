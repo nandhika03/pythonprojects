{
 "cells": [
  {
   "cell_type": "markdown",
   "id": "cf9871ef",
   "metadata": {},
   "source": [
    "# P2 - Statistics + Visualization\n",
    "\n",
    "\n",
    "This project is intended to give you experience with statistics and working with a large data set.\n"
   ]
  },
  {
   "cell_type": "markdown",
   "id": "0b6ea868",
   "metadata": {},
   "source": [
    "## Project Setup\n",
    "\n",
    "You should use the following modules in this assignment and not need any additional modules. "
   ]
  },
  {
   "cell_type": "code",
   "execution_count": 42,
   "id": "b8a0d5e6",
   "metadata": {
    "tags": []
   },
   "outputs": [],
   "source": [
    "import pandas as pd\n",
    "import numpy as np\n",
    "import matplotlib.pyplot as plt\n",
    "%matplotlib inline \n",
    "import seaborn as sns\n",
    "import datetime\n",
    "import os "
   ]
  },
  {
   "cell_type": "markdown",
   "id": "4c21beb7",
   "metadata": {},
   "source": [
    "# Flight Delays\n",
    "\n",
    "Suppose the Houghton County Airport (CMX) is ready to renew its passenger airplance contract.  Airport officials and interested passengers would like to select an airline and connecting city that has reliable service.  *Currently, CMX is being served by United Airlines through Chicago-O'hare (ORD); it has been served by Delta in the past with connections to Minneapolis-St. Paul (MSP).* \n",
    "\n",
    "In order to make an informed decision, you have been tasked to look at flight delay statistics for three potential connector airports: \n",
    "\n",
    "* Chicago - O'hare (ORD) \n",
    "* Detroit (DTW) \n",
    "* Minneapolis - St. Paul (MSP) \n",
    "\n",
    "The data you are provided comes from the US Department of Transportation's [Bureau of Transportation Statistics (BTS)](https://www.bts.gov).  In particular, it comes from the Reporting Carrier On-Time Performance data tables:  \n",
    "https://www.transtats.bts.gov/TableInfo.asp?gnoyr_VQ=FGJ&QO_fu146_anzr=b0-gvzr&V0s1_b0yB=D\n",
    "\n",
    "Information on the variables can be found in the Field Information:  \n",
    "https://www.transtats.bts.gov/Fields.asp?gnoyr_VQ=FGJ\n",
    "\n",
    "\n",
    "The data is structure with the following elements: \n",
    "\n",
    "* \"YEAR\"\n",
    "* \"MONTH\"\n",
    "* \"DAY_OF_MONTH\"\n",
    "* \"OP_UNIQUE_CARRIER\" - Unique Carrier Code\n",
    "* \"TAIL_NUM\" - Tail number \n",
    "* \"OP_CARRIER_FL_NUM\" - Flight number \n",
    "* \"ORIGIN\" - Origin Airport code \n",
    "* \"DEST\" - Destination Airport code \n",
    "* \"CRS_DEP_TIME\" - Computer Reservation System Departure Time (local time: hhmm)\n",
    "* \"DEP_TIME\" - Actual Departure Time (local time: hhmm)\n",
    "* \"DEP_NEXT_DAY\" - the flight departed on the: (scheduled day = 0), (next day = 1), (following day = 2), or (day before  = -1)\n",
    "* \"CRS_ARR_TIME\" - Computer Reservation System Arrival Time (local time: hhmm)\n",
    "* \"ARR_TIME\" - Actual Arrival Time \n",
    "* \"ARR_NEXT_DAY\" - the flight arrived on the: (scheduled day = 0), (next day = 1), (following day = 2), or (day before  = -1)\n",
    "* \"CANCELLED\" - Cancelled Flight Indicator (1 = Yes)\n",
    "* \"DIVERTED\" - Diverted Flight Indicator (1 = Yes)\n",
    "\n",
    "You have access to 5 years of data Jan 2017 - Dec 2021. "
   ]
  },
  {
   "cell_type": "markdown",
   "id": "a1e48436",
   "metadata": {},
   "source": [
    "## Q1 (5 pts) - Load Data \n",
    "\n",
    "Read in the data.    \n",
    "\n",
    "Set the column names to be: `year`, `month`, `day`, `carrier`, `tailNum`, `flNum`, `origin`, `dest`, `crsDepTime`, `actDepTime`, `depNextDay`, `crsArrTime`, `actArrTime`, `arrNextDay`, `cancelled`, `diverted"
   ]
  },
  {
   "cell_type": "code",
   "execution_count": 45,
   "id": "e5c141d7",
   "metadata": {
    "tags": []
   },
   "outputs": [
    {
     "data": {
      "text/html": [
       "<div>\n",
       "<style scoped>\n",
       "    .dataframe tbody tr th:only-of-type {\n",
       "        vertical-align: middle;\n",
       "    }\n",
       "\n",
       "    .dataframe tbody tr th {\n",
       "        vertical-align: top;\n",
       "    }\n",
       "\n",
       "    .dataframe thead th {\n",
       "        text-align: right;\n",
       "    }\n",
       "</style>\n",
       "<table border=\"1\" class=\"dataframe\">\n",
       "  <thead>\n",
       "    <tr style=\"text-align: right;\">\n",
       "      <th></th>\n",
       "      <th>year</th>\n",
       "      <th>month</th>\n",
       "      <th>day</th>\n",
       "      <th>carrier</th>\n",
       "      <th>tailNum</th>\n",
       "      <th>flNum</th>\n",
       "      <th>origin</th>\n",
       "      <th>dest</th>\n",
       "      <th>crsDepTime</th>\n",
       "      <th>actDepTime</th>\n",
       "      <th>depNextDay</th>\n",
       "      <th>crsArrTime</th>\n",
       "      <th>actArrTime</th>\n",
       "      <th>arrNextDay</th>\n",
       "      <th>cancelled</th>\n",
       "      <th>diverted</th>\n",
       "    </tr>\n",
       "  </thead>\n",
       "  <tbody>\n",
       "    <tr>\n",
       "      <th>0</th>\n",
       "      <td>2021</td>\n",
       "      <td>4</td>\n",
       "      <td>11</td>\n",
       "      <td>AS</td>\n",
       "      <td>N309AS</td>\n",
       "      <td>792</td>\n",
       "      <td>SEA</td>\n",
       "      <td>DTW</td>\n",
       "      <td>1010</td>\n",
       "      <td>1013.0</td>\n",
       "      <td>0</td>\n",
       "      <td>1730</td>\n",
       "      <td>1736.0</td>\n",
       "      <td>0</td>\n",
       "      <td>0.0</td>\n",
       "      <td>0.0</td>\n",
       "    </tr>\n",
       "    <tr>\n",
       "      <th>1</th>\n",
       "      <td>2021</td>\n",
       "      <td>4</td>\n",
       "      <td>11</td>\n",
       "      <td>AS</td>\n",
       "      <td>N408AS</td>\n",
       "      <td>1011</td>\n",
       "      <td>ORD</td>\n",
       "      <td>SEA</td>\n",
       "      <td>700</td>\n",
       "      <td>703.0</td>\n",
       "      <td>0</td>\n",
       "      <td>940</td>\n",
       "      <td>916.0</td>\n",
       "      <td>0</td>\n",
       "      <td>0.0</td>\n",
       "      <td>0.0</td>\n",
       "    </tr>\n",
       "    <tr>\n",
       "      <th>2</th>\n",
       "      <td>2021</td>\n",
       "      <td>4</td>\n",
       "      <td>11</td>\n",
       "      <td>AS</td>\n",
       "      <td>N520AS</td>\n",
       "      <td>1012</td>\n",
       "      <td>SEA</td>\n",
       "      <td>MSP</td>\n",
       "      <td>1830</td>\n",
       "      <td>1825.0</td>\n",
       "      <td>0</td>\n",
       "      <td>2345</td>\n",
       "      <td>2337.0</td>\n",
       "      <td>0</td>\n",
       "      <td>0.0</td>\n",
       "      <td>0.0</td>\n",
       "    </tr>\n",
       "    <tr>\n",
       "      <th>3</th>\n",
       "      <td>2021</td>\n",
       "      <td>4</td>\n",
       "      <td>11</td>\n",
       "      <td>AS</td>\n",
       "      <td>N472AS</td>\n",
       "      <td>1013</td>\n",
       "      <td>ORD</td>\n",
       "      <td>SEA</td>\n",
       "      <td>1405</td>\n",
       "      <td>1404.0</td>\n",
       "      <td>0</td>\n",
       "      <td>1645</td>\n",
       "      <td>1627.0</td>\n",
       "      <td>0</td>\n",
       "      <td>0.0</td>\n",
       "      <td>0.0</td>\n",
       "    </tr>\n",
       "    <tr>\n",
       "      <th>4</th>\n",
       "      <td>2021</td>\n",
       "      <td>4</td>\n",
       "      <td>11</td>\n",
       "      <td>AS</td>\n",
       "      <td>N237AK</td>\n",
       "      <td>1014</td>\n",
       "      <td>SEA</td>\n",
       "      <td>ORD</td>\n",
       "      <td>1045</td>\n",
       "      <td>1054.0</td>\n",
       "      <td>0</td>\n",
       "      <td>1650</td>\n",
       "      <td>1652.0</td>\n",
       "      <td>0</td>\n",
       "      <td>0.0</td>\n",
       "      <td>0.0</td>\n",
       "    </tr>\n",
       "  </tbody>\n",
       "</table>\n",
       "</div>"
      ],
      "text/plain": [
       "   year  month  day carrier tailNum  flNum origin dest  crsDepTime  \\\n",
       "0  2021      4   11      AS  N309AS    792    SEA  DTW        1010   \n",
       "1  2021      4   11      AS  N408AS   1011    ORD  SEA         700   \n",
       "2  2021      4   11      AS  N520AS   1012    SEA  MSP        1830   \n",
       "3  2021      4   11      AS  N472AS   1013    ORD  SEA        1405   \n",
       "4  2021      4   11      AS  N237AK   1014    SEA  ORD        1045   \n",
       "\n",
       "   actDepTime  depNextDay  crsArrTime  actArrTime  arrNextDay  cancelled  \\\n",
       "0      1013.0           0        1730      1736.0           0        0.0   \n",
       "1       703.0           0         940       916.0           0        0.0   \n",
       "2      1825.0           0        2345      2337.0           0        0.0   \n",
       "3      1404.0           0        1645      1627.0           0        0.0   \n",
       "4      1054.0           0        1650      1652.0           0        0.0   \n",
       "\n",
       "   diverted  \n",
       "0       0.0  \n",
       "1       0.0  \n",
       "2       0.0  \n",
       "3       0.0  \n",
       "4       0.0  "
      ]
     },
     "execution_count": 45,
     "metadata": {},
     "output_type": "execute_result"
    }
   ],
   "source": [
    "# Read in data, set DataFrame columns to names above \n",
    "col = ['year','month','day','carrier','tailNum','flNum','origin','dest','crsDepTime','actDepTime','depNextDay','crsArrTime','actArrTime','arrNextDay','cancelled','diverted']\n",
    "# Setting the names of the column and placing the row in which was previously in the place of header, into the dataset with index 0\n",
    "flights = pd.read_csv('flight-data.csv',names = col)\n",
    "#Getting the first 5 entries\n",
    "flights.head()"
   ]
  },
  {
   "cell_type": "markdown",
   "id": "73d98947",
   "metadata": {},
   "source": [
    "## Q2 (3 pts) - Explore Data\n",
    "\n",
    "Let's start to explore the data.  "
   ]
  },
  {
   "cell_type": "code",
   "execution_count": 49,
   "id": "4a1eee31",
   "metadata": {},
   "outputs": [
    {
     "name": "stdout",
     "output_type": "stream",
     "text": [
      "Flight data:  5068847 rows,  16 columns\n"
     ]
    }
   ],
   "source": [
    "print(\"Flight data: %8d rows,  %d columns\" % (flights.shape[0], flights.shape[1]))"
   ]
  },
  {
   "cell_type": "markdown",
   "id": "985a5bd5",
   "metadata": {},
   "source": [
    "Report the number of flights departing and arriving from each of the three airports under study: `DTW`, `MSP`, and `ORD`"
   ]
  },
  {
   "cell_type": "code",
   "execution_count": 50,
   "id": "fb46dfe0",
   "metadata": {},
   "outputs": [
    {
     "name": "stdout",
     "output_type": "stream",
     "text": [
      "DTW flights:    648915 arrivals,   648900 departures\n"
     ]
    }
   ],
   "source": [
    "numArrDTW = flights[flights['dest']=='DTW'].shape[0]\n",
    "numDepDTW = flights[flights['origin'] =='DTW'].shape[0]\n",
    "print(\"DTW flights:   %7d arrivals,  %7d departures\" % (numArrDTW, numDepDTW))"
   ]
  },
  {
   "cell_type": "code",
   "execution_count": 51,
   "id": "35e54134",
   "metadata": {},
   "outputs": [
    {
     "name": "stdout",
     "output_type": "stream",
     "text": [
      "MSP flights:    644458 arrivals,   644514 departures\n"
     ]
    }
   ],
   "source": [
    "numArrMSP = flights[flights['dest']=='MSP'].shape[0]\n",
    "numDepMSP = flights[flights['origin']=='MSP'].shape[0]\n",
    "print(\"MSP flights:   %7d arrivals,  %7d departures\" % (numArrMSP, numDepMSP))"
   ]
  },
  {
   "cell_type": "code",
   "execution_count": 52,
   "id": "36364439",
   "metadata": {},
   "outputs": [
    {
     "name": "stdout",
     "output_type": "stream",
     "text": [
      "ORD flights:   1311813 arrivals,  1312017 departures\n"
     ]
    }
   ],
   "source": [
    "numArrORD = flights[flights['dest']=='ORD'].shape[0]\n",
    "numDepORD = flights[flights['origin']=='ORD'].shape[0]\n",
    "print(\"ORD flights:   %7d arrivals,  %7d departures\" % (numArrORD, numDepORD))"
   ]
  },
  {
   "cell_type": "markdown",
   "id": "6c42ca37",
   "metadata": {},
   "source": [
    "*Note*: The number of flights arriving and departing from the three airports exceeds the total number of flights, because flights between the 3 airports are counted twice. "
   ]
  },
  {
   "cell_type": "markdown",
   "id": "d698c7ac",
   "metadata": {},
   "source": [
    "## Q3 (3 pts) - Cancelled and Diverted Flights\n",
    "\n",
    "We are going to focus on flights that took off and landed, that is, flights that were not cancelled or diverted.  \n",
    "\n",
    "Before, getting rid of those entries, let's look at how many flights for each airport were cancelled and diverted. "
   ]
  },
  {
   "cell_type": "code",
   "execution_count": 53,
   "id": "95d18ba9",
   "metadata": {},
   "outputs": [
    {
     "name": "stdout",
     "output_type": "stream",
     "text": [
      "DTW cancelled flights:    9325 arrs,    9264 deps\n",
      "\tDiverted flights:     739 arrs,    1459 deps\n"
     ]
    }
   ],
   "source": [
    "# For DTW \n",
    "numCanArrDTW = flights[(flights['dest'] == 'DTW') & (flights['cancelled'] == 1)].shape[0]\n",
    "numCanDepDTW = flights[(flights['origin'] == 'DTW') & (flights['cancelled'] == 1)].shape[0]\n",
    "numDivArrDTW = flights[(flights['dest'] == 'DTW') & (flights['diverted'] == 1)].shape[0]\n",
    "numDivDepDTW = flights[(flights['origin'] == 'DTW') & (flights['diverted'] == 1)].shape[0]\n",
    "print(\"DTW cancelled flights: %7d arrs, %7d deps\\n\\tDiverted flights: %7d arrs, %7d deps\" \n",
    "      % (numCanArrDTW, numCanDepDTW, numDivArrDTW, numDivDepDTW))"
   ]
  },
  {
   "cell_type": "code",
   "execution_count": 54,
   "id": "f66333eb",
   "metadata": {},
   "outputs": [
    {
     "name": "stdout",
     "output_type": "stream",
     "text": [
      "MSP cancelled flights:    9337 arrs,    9298 deps\n",
      "\tdiverted flights:    1019 arrs,    1555 deps\n"
     ]
    }
   ],
   "source": [
    "# For MSP \n",
    "numCanArrMSP = flights[(flights['dest'] == 'MSP') & (flights['cancelled'] == 1)].shape[0]\n",
    "numCanDepMSP = flights[(flights['origin'] == 'MSP') & (flights['cancelled'] == 1)].shape[0]\n",
    "numDivArrMSP = flights[(flights['dest'] == 'MSP') & (flights['diverted'] == 1)].shape[0]\n",
    "numDivDepMSP = flights[(flights['origin'] == 'MSP') & (flights['diverted'] == 1)].shape[0]\n",
    "print(\"MSP cancelled flights: %7d arrs, %7d deps\\n\\tdiverted flights: %7d arrs, %7d deps\" \n",
    "      % (numCanArrMSP, numCanDepMSP, numDivArrMSP, numDivDepMSP))"
   ]
  },
  {
   "cell_type": "code",
   "execution_count": 55,
   "id": "197faab8",
   "metadata": {},
   "outputs": [
    {
     "name": "stdout",
     "output_type": "stream",
     "text": [
      "ORD cancelled flights:   36875 arrs,   35638 deps\n",
      "\tdiverted flights:    3258 arrs,    3307 deps\n"
     ]
    }
   ],
   "source": [
    "# For ORD \n",
    "numCanArrORD = flights[(flights['dest'] == 'ORD') & (flights['cancelled'] == 1)].shape[0]\n",
    "numCanDepORD = flights[(flights['origin'] == 'ORD') & (flights['cancelled'] == 1)].shape[0]\n",
    "numDivArrORD = flights[(flights['dest'] == 'ORD') & (flights['diverted'] == 1)].shape[0]\n",
    "numDivDepORD = flights[(flights['origin'] == 'ORD') & (flights['diverted'] == 1)].shape[0]\n",
    "print(\"ORD cancelled flights: %7d arrs, %7d deps\\n\\tdiverted flights: %7d arrs, %7d deps\" \n",
    "      % (numCanArrORD, numCanDepORD, numDivArrORD, numDivDepORD))"
   ]
  },
  {
   "cell_type": "markdown",
   "id": "6bc6b405",
   "metadata": {},
   "source": [
    "The absolute number of cancelled and diverted flights can be somewhat misleading because O'hare has many more flights in total.  \n",
    "\n",
    "So, let's look at these values normalized, that is, the percentage of total arriving or departing flights that are cancelled or diverted."
   ]
  },
  {
   "cell_type": "code",
   "execution_count": 56,
   "id": "ac5e3e45",
   "metadata": {},
   "outputs": [
    {
     "data": {
      "text/html": [
       "<div>\n",
       "<style scoped>\n",
       "    .dataframe tbody tr th:only-of-type {\n",
       "        vertical-align: middle;\n",
       "    }\n",
       "\n",
       "    .dataframe tbody tr th {\n",
       "        vertical-align: top;\n",
       "    }\n",
       "\n",
       "    .dataframe thead th {\n",
       "        text-align: right;\n",
       "    }\n",
       "</style>\n",
       "<table border=\"1\" class=\"dataframe\">\n",
       "  <thead>\n",
       "    <tr style=\"text-align: right;\">\n",
       "      <th></th>\n",
       "      <th>PercArrCan</th>\n",
       "      <th>PercDepCan</th>\n",
       "      <th>PercArrDir</th>\n",
       "      <th>PercDepDir</th>\n",
       "    </tr>\n",
       "  </thead>\n",
       "  <tbody>\n",
       "    <tr>\n",
       "      <th>DTW</th>\n",
       "      <td>1.437014</td>\n",
       "      <td>1.427647</td>\n",
       "      <td>0.113882</td>\n",
       "      <td>0.224842</td>\n",
       "    </tr>\n",
       "    <tr>\n",
       "      <th>MSP</th>\n",
       "      <td>1.448814</td>\n",
       "      <td>1.442637</td>\n",
       "      <td>0.158117</td>\n",
       "      <td>0.241267</td>\n",
       "    </tr>\n",
       "    <tr>\n",
       "      <th>ORD</th>\n",
       "      <td>2.810995</td>\n",
       "      <td>2.716276</td>\n",
       "      <td>0.248359</td>\n",
       "      <td>0.252055</td>\n",
       "    </tr>\n",
       "  </tbody>\n",
       "</table>\n",
       "</div>"
      ],
      "text/plain": [
       "     PercArrCan  PercDepCan  PercArrDir  PercDepDir\n",
       "DTW    1.437014    1.427647    0.113882    0.224842\n",
       "MSP    1.448814    1.442637    0.158117    0.241267\n",
       "ORD    2.810995    2.716276    0.248359    0.252055"
      ]
     },
     "execution_count": 56,
     "metadata": {},
     "output_type": "execute_result"
    }
   ],
   "source": [
    "d = np.array([[numCanArrDTW / numArrDTW *100, numCanDepDTW / numDepDTW *100, \n",
    "               numDivArrDTW / numArrDTW *100, numDivDepDTW / numDepDTW *100], \n",
    "              [numCanArrMSP / numArrMSP *100, numCanDepMSP / numDepMSP *100, \n",
    "               numDivArrMSP / numArrMSP *100, numDivDepMSP / numDepMSP *100],\n",
    "              [numCanArrORD / numArrORD *100, numCanDepORD / numDepORD *100, \n",
    "               numDivArrORD / numArrORD *100, numDivDepORD / numDepORD *100]])\n",
    "canDivFls = pd.DataFrame(data=d, \n",
    "                        columns = ['PercArrCan', 'PercDepCan', 'PercArrDir', \n",
    "                                   'PercDepDir'], \n",
    "                        index = ['DTW', 'MSP', 'ORD'])\n",
    "canDivFls"
   ]
  },
  {
   "cell_type": "markdown",
   "id": "4982f027",
   "metadata": {},
   "source": [
    "## Q4 (4 pts) - Clean Data \n",
    "\n",
    "Now, let's remove the cancelled and diverted flights from further analysis.  \n",
    "\n",
    "After removing both reset the index on the remaining flights in the DataFrame."
   ]
  },
  {
   "cell_type": "code",
   "execution_count": 57,
   "id": "a4a3d4de",
   "metadata": {},
   "outputs": [
    {
     "name": "stdout",
     "output_type": "stream",
     "text": [
      "Flight data:    4950620 rows\n"
     ]
    }
   ],
   "source": [
    "# Remove the cancelled and diverted flights.  \n",
    "# Then, reset the index of the flights DataFrame\n",
    "flights = flights.drop(flights[flights['cancelled']==1].index)\n",
    "flights = flights.drop(flights[flights['diverted']==1].index)\n",
    "#Resetting the index\n",
    "flights.reset_index(drop=True)\n",
    "print(\"Flight data:   %8d rows\" % flights.shape[0])"
   ]
  },
  {
   "cell_type": "markdown",
   "id": "8cf32212",
   "metadata": {},
   "source": [
    "## Q5 (5 pts) - Extract Time Information\n",
    "\n",
    "Both the departure and arrival times were read in as integers or floating-point numbers in local time format: `hhmm`. Write two functions, `extract_hour` and `extract_mins` that converts the local time to hours and minutes, respectively. Hint: You may want to use modular arithmetic and integer division.\n",
    "\n",
    "Notes: \n",
    "\n",
    "* The function should work on a single value passed or a Series passed in as an argument. \n",
    "* The function should not have a `for` loop, if it does you will lose points! "
   ]
  },
  {
   "cell_type": "code",
   "execution_count": 59,
   "id": "b4c4bf97",
   "metadata": {},
   "outputs": [],
   "source": [
    "def extract_hour(time):\n",
    "    hours = time//100\n",
    "    \"\"\"\n",
    "    Extract hour information from the time given in hhmm format.\n",
    "\n",
    "    Input:\n",
    "        time (float64 or int64): Series of time given in hhmm format.  \n",
    "          Takes on values in 0.0-2400.0 in float64 representation or \n",
    "          values in 0-2400 in int64 representation\n",
    " \n",
    "    Returns:\n",
    "        array (float64 or int64): Series of same dimension as input of hours  \n",
    "          values should be 0-24\n",
    "    \n",
    "    Example: 1303 should return 13\n",
    "    >>> extract_hour(1303.0)\n",
    "    13\n",
    "    \"\"\"\n",
    "    return hours"
   ]
  },
  {
   "cell_type": "code",
   "execution_count": 16,
   "id": "f0cdcbef",
   "metadata": {},
   "outputs": [
    {
     "data": {
      "text/plain": [
       "100    10.0\n",
       "101     7.0\n",
       "102    18.0\n",
       "103    13.0\n",
       "104    10.0\n",
       "       ... \n",
       "195    18.0\n",
       "196    10.0\n",
       "197     7.0\n",
       "198    18.0\n",
       "199    14.0\n",
       "Name: actDepTime, Length: 100, dtype: float64"
      ]
     },
     "execution_count": 16,
     "metadata": {},
     "output_type": "execute_result"
    }
   ],
   "source": [
    "#Testing\n",
    "extract_hour(flights['actDepTime'][100:200])"
   ]
  },
  {
   "cell_type": "code",
   "execution_count": 60,
   "id": "a673e1ee",
   "metadata": {},
   "outputs": [],
   "source": [
    "def extract_min(time):\n",
    "    \"\"\"\n",
    "    Extract minute information from the time given in hhmm time.\n",
    "\n",
    "    Input:\n",
    "        time (float64 or int64): Series of time given in hhmm format.  \n",
    "          Takes on values in 0.0-2400.0 in float64 representation or \n",
    "          values in 0-2400 in int64 representation\n",
    "    \n",
    "    Returns:\n",
    "        array (float64 or int64): Series of same dimension as input of minutes.  \n",
    "          values should be 0-59\n",
    "    \n",
    "    Example: 1303 should return 3\n",
    "    >>> extract_mins(1303.0)\n",
    "    3\n",
    "    \"\"\"\n",
    "    mins = time % 100\n",
    "    return mins"
   ]
  },
  {
   "cell_type": "markdown",
   "id": "59a84ae9",
   "metadata": {},
   "source": [
    "Here are some examples of usage: \n",
    "\n",
    "```\n",
    ">>> extract_hour(1450)\n",
    ">>> extract_hour(flights['actDepTime'][100:200])\n",
    ">>> extract_hour(flights['crsDepTime'])\n",
    ">>> extract_mins(1450)\n",
    ">>> extract_mins(flights['actDepTime'][100:200])\n",
    ">>> extract_mins(flights['crsDepTime'])\n",
    "```"
   ]
  },
  {
   "cell_type": "markdown",
   "id": "fd7406ec",
   "metadata": {},
   "source": [
    "## Q6 (2 pts) - Calculate Time in Minutes\n",
    "\n",
    "You will use the two functions created above to calculate a time formatted `hhmm` into the number of minutes in the day.  These calculation will be done in the `convert_to_minofday` function, you will fill in.   \n",
    "\n",
    "For example, `1005` is 605 minutes and `837` is 517 minutes and `1524` is 924 minutes. \n",
    "\n",
    "Comment: \n",
    "\n",
    "* The function should work on a single value passed or a Series passed in as an argument. \n",
    "* The function should not have a `for` loop, if it does you will lose points! "
   ]
  },
  {
   "cell_type": "code",
   "execution_count": 61,
   "id": "7bffdb9a",
   "metadata": {},
   "outputs": [],
   "source": [
    "def convert_to_minofday(time):\n",
    "    \"\"\"\n",
    "    Converts time in hhmm format to minute of day.\n",
    "    \n",
    "    Input:\n",
    "       time (float64 or int64): Series of time given in hhmm format.  \n",
    "          Takes on values in 0.0-2400.0 in float64 representation or \n",
    "          values in 0-2400 in int64 representation\n",
    "    \n",
    "    Returns:\n",
    "        array (float64 or int64): Series of same dimension as input with \n",
    "           total mins\n",
    "    \n",
    "     \n",
    "    Example: 1303 is converted to 783\n",
    "    >>> convert_to_minofday(1303.0)\n",
    "    783.0\n",
    "    \"\"\"\n",
    "    # make use of the functions you wrote above: extract_hour, extract_min\n",
    "    minOfDay = extract_hour(time)*60+extract_min(time)\n",
    "    return minOfDay "
   ]
  },
  {
   "cell_type": "markdown",
   "id": "b9584857",
   "metadata": {},
   "source": [
    "## Q7 (6 pts) - Calculate Delayed Flights\n",
    "\n",
    "You will add two new columns to the `flights` DataFrame that will contain the departure delay `depDelay` and arrival delay `arrDelay`.\n",
    "\n",
    "To help answer this question, implement the helper functions, `calc_time_diff`.  Make use of the functions above, e.g., `convert_to_minofday`.\n",
    "\n",
    "\n",
    "*Be careful for handling flights that that did not leave on their scheduled day indicated in the `depNextDay` and `arrNextDay` columns.*  \n",
    "These two variables are encoded as: \n",
    "* 0, left/arrived on scheduled day \n",
    "* -1, left/arrived on the day before scheduled day\n",
    "* 1, left/arrived 1 day after scheduled day \n",
    "* 2, left/arrived 2 days after scheduled day\n",
    "\n",
    "\n",
    "Note, you can have *negative* flight delays for flights that leave / arrive early. \n",
    "\n",
    "Notes: \n",
    "\n",
    "* The function should work on Series passed in as an argument. \n",
    "* The function should not have a `for` loop, if it does you will lose points! "
   ]
  },
  {
   "cell_type": "code",
   "execution_count": 62,
   "id": "9b0d17f1",
   "metadata": {},
   "outputs": [],
   "source": [
    "def calc_time_diff(x, y, nextDay):\n",
    "    \"\"\" \n",
    "    Calculate the time difference, y - x, accounting for nextDay changes.\n",
    "\n",
    "    Input:\n",
    "        x,y (float64 or int64): Series of scheduled time given in hhmm format.  \n",
    "          Takes on values in 0.0-2400.0 due to float64 representation or \n",
    "          values in 0-2400 in int64 representation\n",
    "        nextDay (int): Series of next day indicator, takes on values: -1, 0, 1, 2\n",
    "        \n",
    "    Returns:\n",
    "        array (float64): array of input dimension with delay time\n",
    "        \n",
    "        \n",
    "    Example: 1303 is converted to 783\n",
    "             1305 is converted to 785\n",
    "    >>> calc_time_diff(pd.Series([1303]), pd.Series([1305]), pd.Series([0]))\n",
    "    2\n",
    "\n",
    "    Example: 2320.0 is converted to 1400.0\n",
    "               37.0 is converted to    37.0 \n",
    "    >>> calc_time_diff(pd.Series([2320.0]), pd.Series([37.0]), pd.Series([1]))\n",
    "    77.0\n",
    "    \"\"\"\n",
    "    # make use of the convert_to_minofday function \n",
    "    diff = convert_to_minofday(y) - convert_to_minofday(x)\n",
    "    diff += 1440 * (nextDay == -1)  \n",
    "    diff += 1440 * (nextDay == 1) \n",
    "    diff += 2880 * (nextDay == 2)\n",
    "    return diff"
   ]
  },
  {
   "cell_type": "code",
   "execution_count": 63,
   "id": "054bc7c0",
   "metadata": {},
   "outputs": [],
   "source": [
    "flights['depDelay'] = calc_time_diff(flights['crsDepTime'], flights['actDepTime'],flights['depNextDay'])\n",
    "flights['arrDelay'] = calc_time_diff(flights['crsArrTime'], flights['actArrTime'],flights['arrNextDay'])                                                               "
   ]
  },
  {
   "cell_type": "code",
   "execution_count": 64,
   "id": "e0f8db27",
   "metadata": {},
   "outputs": [
    {
     "data": {
      "text/html": [
       "<div>\n",
       "<style scoped>\n",
       "    .dataframe tbody tr th:only-of-type {\n",
       "        vertical-align: middle;\n",
       "    }\n",
       "\n",
       "    .dataframe tbody tr th {\n",
       "        vertical-align: top;\n",
       "    }\n",
       "\n",
       "    .dataframe thead th {\n",
       "        text-align: right;\n",
       "    }\n",
       "</style>\n",
       "<table border=\"1\" class=\"dataframe\">\n",
       "  <thead>\n",
       "    <tr style=\"text-align: right;\">\n",
       "      <th></th>\n",
       "      <th>year</th>\n",
       "      <th>month</th>\n",
       "      <th>day</th>\n",
       "      <th>carrier</th>\n",
       "      <th>tailNum</th>\n",
       "      <th>flNum</th>\n",
       "      <th>origin</th>\n",
       "      <th>dest</th>\n",
       "      <th>crsDepTime</th>\n",
       "      <th>actDepTime</th>\n",
       "      <th>depNextDay</th>\n",
       "      <th>crsArrTime</th>\n",
       "      <th>actArrTime</th>\n",
       "      <th>arrNextDay</th>\n",
       "      <th>cancelled</th>\n",
       "      <th>diverted</th>\n",
       "      <th>depDelay</th>\n",
       "      <th>arrDelay</th>\n",
       "    </tr>\n",
       "  </thead>\n",
       "  <tbody>\n",
       "    <tr>\n",
       "      <th>0</th>\n",
       "      <td>2021</td>\n",
       "      <td>4</td>\n",
       "      <td>11</td>\n",
       "      <td>AS</td>\n",
       "      <td>N309AS</td>\n",
       "      <td>792</td>\n",
       "      <td>SEA</td>\n",
       "      <td>DTW</td>\n",
       "      <td>1010</td>\n",
       "      <td>1013.0</td>\n",
       "      <td>0</td>\n",
       "      <td>1730</td>\n",
       "      <td>1736.0</td>\n",
       "      <td>0</td>\n",
       "      <td>0.0</td>\n",
       "      <td>0.0</td>\n",
       "      <td>3.0</td>\n",
       "      <td>6.0</td>\n",
       "    </tr>\n",
       "    <tr>\n",
       "      <th>1</th>\n",
       "      <td>2021</td>\n",
       "      <td>4</td>\n",
       "      <td>11</td>\n",
       "      <td>AS</td>\n",
       "      <td>N408AS</td>\n",
       "      <td>1011</td>\n",
       "      <td>ORD</td>\n",
       "      <td>SEA</td>\n",
       "      <td>700</td>\n",
       "      <td>703.0</td>\n",
       "      <td>0</td>\n",
       "      <td>940</td>\n",
       "      <td>916.0</td>\n",
       "      <td>0</td>\n",
       "      <td>0.0</td>\n",
       "      <td>0.0</td>\n",
       "      <td>3.0</td>\n",
       "      <td>-24.0</td>\n",
       "    </tr>\n",
       "    <tr>\n",
       "      <th>2</th>\n",
       "      <td>2021</td>\n",
       "      <td>4</td>\n",
       "      <td>11</td>\n",
       "      <td>AS</td>\n",
       "      <td>N520AS</td>\n",
       "      <td>1012</td>\n",
       "      <td>SEA</td>\n",
       "      <td>MSP</td>\n",
       "      <td>1830</td>\n",
       "      <td>1825.0</td>\n",
       "      <td>0</td>\n",
       "      <td>2345</td>\n",
       "      <td>2337.0</td>\n",
       "      <td>0</td>\n",
       "      <td>0.0</td>\n",
       "      <td>0.0</td>\n",
       "      <td>-5.0</td>\n",
       "      <td>-8.0</td>\n",
       "    </tr>\n",
       "    <tr>\n",
       "      <th>3</th>\n",
       "      <td>2021</td>\n",
       "      <td>4</td>\n",
       "      <td>11</td>\n",
       "      <td>AS</td>\n",
       "      <td>N472AS</td>\n",
       "      <td>1013</td>\n",
       "      <td>ORD</td>\n",
       "      <td>SEA</td>\n",
       "      <td>1405</td>\n",
       "      <td>1404.0</td>\n",
       "      <td>0</td>\n",
       "      <td>1645</td>\n",
       "      <td>1627.0</td>\n",
       "      <td>0</td>\n",
       "      <td>0.0</td>\n",
       "      <td>0.0</td>\n",
       "      <td>-1.0</td>\n",
       "      <td>-18.0</td>\n",
       "    </tr>\n",
       "    <tr>\n",
       "      <th>4</th>\n",
       "      <td>2021</td>\n",
       "      <td>4</td>\n",
       "      <td>11</td>\n",
       "      <td>AS</td>\n",
       "      <td>N237AK</td>\n",
       "      <td>1014</td>\n",
       "      <td>SEA</td>\n",
       "      <td>ORD</td>\n",
       "      <td>1045</td>\n",
       "      <td>1054.0</td>\n",
       "      <td>0</td>\n",
       "      <td>1650</td>\n",
       "      <td>1652.0</td>\n",
       "      <td>0</td>\n",
       "      <td>0.0</td>\n",
       "      <td>0.0</td>\n",
       "      <td>9.0</td>\n",
       "      <td>2.0</td>\n",
       "    </tr>\n",
       "  </tbody>\n",
       "</table>\n",
       "</div>"
      ],
      "text/plain": [
       "   year  month  day carrier tailNum  flNum origin dest  crsDepTime  \\\n",
       "0  2021      4   11      AS  N309AS    792    SEA  DTW        1010   \n",
       "1  2021      4   11      AS  N408AS   1011    ORD  SEA         700   \n",
       "2  2021      4   11      AS  N520AS   1012    SEA  MSP        1830   \n",
       "3  2021      4   11      AS  N472AS   1013    ORD  SEA        1405   \n",
       "4  2021      4   11      AS  N237AK   1014    SEA  ORD        1045   \n",
       "\n",
       "   actDepTime  depNextDay  crsArrTime  actArrTime  arrNextDay  cancelled  \\\n",
       "0      1013.0           0        1730      1736.0           0        0.0   \n",
       "1       703.0           0         940       916.0           0        0.0   \n",
       "2      1825.0           0        2345      2337.0           0        0.0   \n",
       "3      1404.0           0        1645      1627.0           0        0.0   \n",
       "4      1054.0           0        1650      1652.0           0        0.0   \n",
       "\n",
       "   diverted  depDelay  arrDelay  \n",
       "0       0.0       3.0       6.0  \n",
       "1       0.0       3.0     -24.0  \n",
       "2       0.0      -5.0      -8.0  \n",
       "3       0.0      -1.0     -18.0  \n",
       "4       0.0       9.0       2.0  "
      ]
     },
     "execution_count": 64,
     "metadata": {},
     "output_type": "execute_result"
    }
   ],
   "source": [
    "flights.head()"
   ]
  },
  {
   "cell_type": "markdown",
   "id": "3d787a2c",
   "metadata": {},
   "source": [
    "## Q8 (3 pts) - Filter Delayed Flights \n",
    "\n",
    "Filter the `flights` data for flights that departed 75 or more minutes later than scheduled.  Report the number and a percentage of all departing flights for each airport."
   ]
  },
  {
   "cell_type": "code",
   "execution_count": 66,
   "id": "8fb1e209",
   "metadata": {},
   "outputs": [
    {
     "name": "stdout",
     "output_type": "stream",
     "text": [
      "DTW delayed flights:    25792, 4.042%\n",
      "MSP delayed flights:    21323, 3.365%\n",
      "ORD delayed flights:    69335, 5.446%\n"
     ]
    }
   ],
   "source": [
    "\n",
    "# Using your the new column flights['depDelay'] to filter the number of flights\n",
    "#  flights delayed over 75 minutes for each airport.\n",
    "# numDepDTW = flights[flights['origin']=='DTW'].shape[0]\n",
    "# numDepMSP = flights[flights['origin']=='MSP'].shape[0]\n",
    "# numDepORD = flights[flights['origin']=='ORD'].shape[0]\n",
    "\n",
    "delayedDTW = flights[(flights['depDelay']>=75) & (flights['origin']=='DTW')].shape[0]\n",
    "delayedMSP = flights[(flights['depDelay']>=75) & (flights['origin']=='MSP')].shape[0]\n",
    "delayedORD = flights[(flights['depDelay']>=75) & (flights['origin']=='ORD')].shape[0]\n",
    "\n",
    "# Report the number and the percentage for each airport. \n",
    "print(\"DTW delayed flights:  %7d, %3.3f%%\" % (delayedDTW, delayedDTW/numDepDTW*100))\n",
    "print(\"MSP delayed flights:  %7d, %3.3f%%\" % (delayedMSP, delayedMSP/numDepMSP*100))\n",
    "print(\"ORD delayed flights:  %7d, %3.3f%%\" % (delayedORD, delayedORD/numDepORD*100))"
   ]
  },
  {
   "cell_type": "markdown",
   "id": "ed3e02c1",
   "metadata": {},
   "source": [
    "<!-- BEGIN QUESTION -->\n",
    "\n",
    "## Q9 (15 pts) - Distribution and Statistics on Flight Delays\n",
    "\n",
    "Plot the distribution of delays for both arriving and departing flights for each airport.  \n",
    "\n",
    "The histograms should be placed side-by-side *hint: consider the `subplot` function*. \n",
    "\n",
    "The departing delays should be in the left plot and the arriving delays should be in the right plot. \n",
    "\n",
    "Use a log-scale y-axis.   \n",
    "https://matplotlib.org/stable/api/_as_gen/matplotlib.pyplot.yscale.html?highlight=yscale#matplotlib.pyplot.yscale\n",
    "\n",
    "\n",
    "Make sure to label and make the plots look nice. "
   ]
  },
  {
   "cell_type": "code",
   "execution_count": 38,
   "id": "b9c3f59f",
   "metadata": {},
   "outputs": [
    {
     "data": {
      "text/plain": [
       "Text(0.5, 1.0, 'Delays Distribution for DTW Airport')"
      ]
     },
     "execution_count": 38,
     "metadata": {},
     "output_type": "execute_result"
    },
    {
     "data": {
      "image/png": "[encoded data removed]",
      "text/plain": [
       "<Figure size 720x324 with 2 Axes>"
      ]
     },
     "metadata": {
      "needs_background": "light"
     },
     "output_type": "display_data"
    }
   ],
   "source": [
    "# Histograms for DTW \n",
    "# Using subplots\n",
    "plt.figure(figsize=(10,4.5))\n",
    "plt.subplot(1,2,1)\n",
    "#Plotting the histogram\n",
    "plt.hist(flights [flights['origin'] == 'DTW'] ['depDelay'], bins=25, color='white',edgecolor ='black')\n",
    "#Using the logrithamic scale\n",
    "plt.yscale('log')\n",
    "plt.xlabel('Departure Delay for DTW (in mins)')\n",
    "plt.ylabel('Number of Flights (log scale)')\n",
    "plt.title('Delays Distribution for DTW Airport')\n",
    "#Plotting the arrival delays for DTW\n",
    "plt.subplot(1,2,2)\n",
    "plt.hist(flights[flights['dest'] == 'DTW'] ['arrDelay'], bins=25, color='black',edgecolor ='white')\n",
    "plt.yscale('log')\n",
    "#Formatting\n",
    "plt.xlabel('Arrival Delay for DTW (minutes)')\n",
    "plt.ylabel('Number of Flights (log scale)')\n",
    "plt.title('Delays Distribution for DTW Airport')\n"
   ]
  },
  {
   "cell_type": "code",
   "execution_count": 79,
   "id": "55ef6749",
   "metadata": {},
   "outputs": [
    {
     "data": {
      "text/plain": [
       "Text(0.5, 1.0, 'Delays Distribution for MSP Airport')"
      ]
     },
     "execution_count": 79,
     "metadata": {},
     "output_type": "execute_result"
    },
    {
     "data": {
      "image/png": "[encoded data removed]",
      "text/plain": [
       "<Figure size 720x324 with 2 Axes>"
      ]
     },
     "metadata": {
      "needs_background": "light"
     },
     "output_type": "display_data"
    }
   ],
   "source": [
    "# Histograms for MSP \n",
    "# Using subplots\n",
    "plt.figure(figsize=(10,4.5))\n",
    "plt.subplot(1,2,1)\n",
    "#Plotting the histogram\n",
    "plt.hist(flights [flights['origin'] == 'MSP'] ['depDelay'], bins=25, color='black',edgecolor ='white')\n",
    "#Using the logrithamic scale\n",
    "plt.yscale('log')\n",
    "plt.xlabel('Departure Delay for MSP (in mins)')\n",
    "plt.ylabel('Number of Flights (log scale)')\n",
    "plt.title('Delays Distribution for MSP Airport')\n",
    "#Plotting the arrival delays for MSP\n",
    "plt.subplot(1,2,2)\n",
    "plt.hist(flights[flights['dest'] == 'MSP'] ['arrDelay'], bins=25, color='white',edgecolor ='black')\n",
    "plt.yscale('log')\n",
    "#Formatting\n",
    "plt.xlabel('Arrival Delay for MSP (minutes)')\n",
    "plt.ylabel('Number of Flights (log scale)')\n",
    "plt.title('Delays Distribution for MSP Airport')\n"
   ]
  },
  {
   "cell_type": "code",
   "execution_count": 80,
   "id": "3262e48f",
   "metadata": {},
   "outputs": [
    {
     "data": {
      "text/plain": [
       "Text(0.5, 1.0, 'Delays Distribution for ORD Airport')"
      ]
     },
     "execution_count": 80,
     "metadata": {},
     "output_type": "execute_result"
    },
    {
     "data": {
      "image/png": "[encoded data removed]",
      "text/plain": [
       "<Figure size 720x324 with 2 Axes>"
      ]
     },
     "metadata": {
      "needs_background": "light"
     },
     "output_type": "display_data"
    }
   ],
   "source": [
    "# Histograms for ORD \n",
    "# Create a figure and subplots\n",
    "plt.figure(figsize=(10,4.5))\n",
    "plt.subplot(1,2,1)\n",
    "#Plotting the histogram\n",
    "plt.hist(flights [flights['origin'] == 'ORD'] ['depDelay'], bins=25, color='white',edgecolor ='black')\n",
    "#Using the logrithamic scale\n",
    "plt.yscale('log')\n",
    "plt.xlabel('Departure Delay for ORD (in mins)')\n",
    "plt.ylabel('Number of Flights (log scale)')\n",
    "plt.title('Delays Distribution for ORD Airport')\n",
    "#Plotting the arrival delays for ORD\n",
    "plt.subplot(1,2,2)\n",
    "plt.hist(flights[flights['dest'] == 'ORD'] ['arrDelay'], bins=25, color='black',edgecolor ='white')\n",
    "plt.yscale('log')\n",
    "#Formatting\n",
    "plt.xlabel('Arrival Delay for ORD (minutes)')\n",
    "plt.ylabel('Number of Flights (log scale)')\n",
    "plt.title('Delays Distribution for ORD Airport')"
   ]
  },
  {
   "cell_type": "markdown",
   "id": "249adb30",
   "metadata": {},
   "source": [
    "<!-- END QUESTION -->\n",
    "\n",
    "## Q10 (3 pts) - Delay Statistics"
   ]
  },
  {
   "cell_type": "markdown",
   "id": "a1f64fc3",
   "metadata": {},
   "source": [
    "Present the mean and standard deviation for departure and arrival delays for each airport.\n"
   ]
  },
  {
   "cell_type": "code",
   "execution_count": 81,
   "id": "f5bcc738",
   "metadata": {},
   "outputs": [
    {
     "name": "stdout",
     "output_type": "stream",
     "text": [
      "Depature Delay for flights leaving DTW\n",
      " Mean:     7.5927405833482196\n",
      " Std Dev:  43.61499268202019\n",
      "Arrival Delay for flights arriving in DTW\n",
      " Mean:     7.45310878436443\n",
      " Std Dev:  146.47135753115043\n",
      "\n",
      "Depature Delay for flights leaving MSP\n",
      " Mean:     6.539962945545101\n",
      " Std Dev:  43.042282964236065\n",
      "Arrival Delay for flights arriving in MSP\n",
      " Mean:     5.970643524227963\n",
      " Std Dev:  146.96470883333268\n",
      "\n",
      "Depature Delay for flights leaving ORD\n",
      " Mean:     10.85803788002564\n",
      " Std Dev:  47.322382577210384\n",
      "Arrival Delay for flights arriving in ORD\n",
      " Mean:     8.950908247357827\n",
      " Std Dev:  122.47955196586678\n"
     ]
    }
   ],
   "source": [
    "# Calculate the mean and std. Dev. Depature Delay for flights leaving DTW/MSP/ORD\n",
    "# Calculate the mean and std. Dev. Arrival Delay for flights arriving at DTW/MSP/ORD\n",
    "\n",
    "meanArrDTW = flights[flights['dest']=='DTW']['arrDelay'].mean()\n",
    "stdArrDTW = flights[flights['dest']=='DTW']['arrDelay'].std()\n",
    "\n",
    "meanArrMSP =flights[flights['dest']=='MSP']['arrDelay'].mean()\n",
    "stdArrMSP = flights[flights['dest']=='MSP']['arrDelay'].std()\n",
    "\n",
    "meanArrORD = flights[flights['dest']=='ORD']['arrDelay'].mean()\n",
    "stdArrORD = flights[flights['dest']=='ORD']['arrDelay'].std()\n",
    "\n",
    "meanDepDTW = flights[flights['origin']=='DTW']['depDelay'].mean()\n",
    "stdDepDTW = flights[flights['origin']=='DTW']['depDelay'].std()\n",
    "\n",
    "meanDepMSP = flights[flights['origin']=='MSP']['depDelay'].mean()\n",
    "stdDepMSP = flights[flights['origin']=='MSP']['depDelay'].std()\n",
    "\n",
    "meanDepORD = flights[flights['origin']=='ORD']['depDelay'].mean()\n",
    "stdDepORD = flights[flights['origin']=='ORD']['depDelay'].std()\n",
    "\n",
    "\n",
    "\n",
    "print(\"Depature Delay for flights leaving DTW\")\n",
    "print(\" Mean:    \", meanDepDTW)\n",
    "print(\" Std Dev: \", stdDepDTW)\n",
    "\n",
    "print(\"Arrival Delay for flights arriving in DTW\")\n",
    "print(\" Mean:    \", meanArrDTW)\n",
    "print(\" Std Dev: \", stdArrDTW)\n",
    "\n",
    "print(\"\\nDepature Delay for flights leaving MSP\")\n",
    "print(\" Mean:    \", meanDepMSP)\n",
    "print(\" Std Dev: \", stdDepMSP)\n",
    "\n",
    "print(\"Arrival Delay for flights arriving in MSP\")\n",
    "print(\" Mean:    \", meanArrMSP)\n",
    "print(\" Std Dev: \", stdArrMSP)\n",
    "\n",
    "print(\"\\nDepature Delay for flights leaving ORD\")\n",
    "print(\" Mean:    \", meanDepORD)\n",
    "print(\" Std Dev: \", stdDepORD)\n",
    "\n",
    "print(\"Arrival Delay for flights arriving in ORD\")\n",
    "print(\" Mean:    \", meanArrORD)\n",
    "print(\" Std Dev: \", stdArrORD)"
   ]
  },
  {
   "cell_type": "markdown",
   "id": "4eb2dfb1",
   "metadata": {},
   "source": [
    "## Patterns of Delays \n",
    "\n",
    "Next, you will examine if there are any patterns in the delays.  \n",
    "\n",
    "For this analysis focus on just the data from ORD, in particular the departure delays. "
   ]
  },
  {
   "cell_type": "markdown",
   "id": "82d53f3a",
   "metadata": {},
   "source": [
    "<!-- BEGIN QUESTION -->\n",
    "\n",
    "## Q11 (5 pts) - Departure Delays by Day of Week\n",
    "\n",
    "Let's examine if the departure delays differ by which day a flight is scheduled to leave.\n",
    "\n",
    "Create a bar chart showing the mean departure delay for each day of the week.\n",
    "\n",
    "In order to get the day of the week, I suggest create a new column `dateVal` that is a datetime object.  Then, you can make use of functions to convert datetime to day of the week, day of the year, etc. "
   ]
  },
  {
   "cell_type": "code",
   "execution_count": 34,
   "id": "8f26c64b",
   "metadata": {},
   "outputs": [
    {
     "data": {
      "image/png": "[encoded data removed]",
      "text/plain": [
       "<Figure size 432x288 with 1 Axes>"
      ]
     },
     "metadata": {
      "needs_background": "light"
     },
     "output_type": "display_data"
    }
   ],
   "source": [
    "# Create a new column \"dateVal\" with a datetime object that may be useful\n",
    "#  for this and the following questions. \n",
    "flights['dateVal'] = pd.to_datetime(flights[['year', 'month', 'day']])\n",
    "flights['day_week_val'] = flights['dateVal'].dt.dayofweek\n",
    "# Look at departure delays for ORD \n",
    "bar_values = flights[flights['origin']=='ORD'].groupby('day_week_val')['depDelay'].mean()\n",
    "days_of_week = ['Mon', 'Tue', 'Wed', 'Thu', 'Fri', 'Sat', 'Sun']\n",
    "# Create a bar chart of the mean `depDelay` by day of the week: Mon., Tues., ...\n",
    "plt.bar(days_of_week, bar_values,color ='pink')\n",
    "plt.xlabel('Day of the week')\n",
    "plt.ylabel('Mean departure delay for ORD for each day of the week')\n",
    "plt.title('Bar Plot Example')\n",
    "# Showing the plot\n",
    "plt.show()"
   ]
  },
  {
   "cell_type": "markdown",
   "id": "ad8fe57f",
   "metadata": {},
   "source": [
    "<!-- END QUESTION -->\n",
    "\n",
    "<!-- BEGIN QUESTION -->\n",
    "\n",
    "## Q12 (5 pts) - Dept. Delays by Month\n",
    "\n",
    "Next, let's examine if the depature delays differ by month of the year. \n",
    "\n",
    "Create a bar chart showing the mean departure delay for each month of the year."
   ]
  },
  {
   "cell_type": "code",
   "execution_count": 39,
   "id": "dc15eafd",
   "metadata": {},
   "outputs": [
    {
     "data": {
      "image/png": "[encoded data removed]",
      "text/plain": [
       "<Figure size 720x432 with 1 Axes>"
      ]
     },
     "metadata": {
      "needs_background": "light"
     },
     "output_type": "display_data"
    }
   ],
   "source": [
    "# Create a bar plot with the mean dep. delay for each month. \n",
    "flights['day_of_month_val'] = flights['dateVal'].dt.month\n",
    "plt.figure(figsize=(10,6))\n",
    "bar_values_month = flights[flights['origin']=='ORD'].groupby('day_of_month_val')['depDelay'].mean()\n",
    "days_of_month = ['Jan', 'Feb', 'March', 'April', 'May', 'June', 'July', 'Aug', 'Sept', 'Oct', 'Nov', 'Dec']\n",
    "plt.bar(days_of_month,bar_values_month, color='teal')\n",
    "plt.show()"
   ]
  },
  {
   "cell_type": "markdown",
   "id": "dd934b42",
   "metadata": {},
   "source": [
    "<!-- END QUESTION -->\n",
    "\n",
    "<!-- BEGIN QUESTION -->\n",
    "\n",
    "## Q13 (6 pts) - Change in Dept. Delays over Time \n",
    "\n",
    "Finally, let's examine how the depature delays have changed over time, e.g., has covid impacted depature delays? \n",
    "\n",
    "Create a line graph plotting the mean depature delay for data's timespan. "
   ]
  },
  {
   "cell_type": "code",
   "execution_count": 73,
   "id": "dfb3e278",
   "metadata": {},
   "outputs": [
    {
     "data": {
      "image/png": "[encoded data removed]",
      "text/plain": [
       "<Figure size 864x432 with 1 Axes>"
      ]
     },
     "metadata": {
      "needs_background": "light"
     },
     "output_type": "display_data"
    }
   ],
   "source": [
    "\n",
    "flights['dateVal_a'] = pd.to_datetime(flights[['year', 'month', 'day']])\n",
    "# Grouping the flights\n",
    "mean_dep_delay_over_time = flights.groupby('dateVal_a')['depDelay'].mean()\n",
    "# Creating the chart\n",
    "plt.figure(figsize=(12, 6))\n",
    "plt.plot(mean_dep_delay_over_time, color='olive')\n",
    "plt.xlabel('Date')\n",
    "plt.ylabel('Mean Departure Delay (minutes)')\n",
    "plt.title('Mean Departure Delay Over Time')\n",
    "plt.show()\n",
    "\n",
    "#Covid impacted delays?\n",
    "# During the COVID-19 pandemic, flight delays exhibited a notable peak, with delays extending up to \n",
    "# approximately 180 minutes beyond scheduled departure times.  \n",
    "# However, following this , there was a gradual decline in delay occurrences.\n"
   ]
  },
  {
   "cell_type": "markdown",
   "id": "f06dfbbf",
   "metadata": {},
   "source": [
    "<!-- END QUESTION -->\n",
    "\n",
    "<!-- BEGIN QUESTION -->\n",
    "\n",
    "## Bonus (2 pts) - Top Ten Planes \n",
    "\n",
    "Find the tail number of the top ten planes, with the worst departure delays (average delays).  You may find `drop_duplicates`, `agg`, and `sort_values` helpful. \n",
    "Report out the tail number `tailNum`, number of flights `num`, and the mean delay `mnDelay`. "
   ]
  },
  {
   "cell_type": "code",
   "execution_count": 78,
   "id": "1b77f1f0",
   "metadata": {},
   "outputs": [
    {
     "name": "stdout",
     "output_type": "stream",
     "text": [
      "  tailNum  mnDelay  num\n",
      "0  N727AN    659.0    2\n",
      "1  N733AR    626.5    4\n",
      "2  N785AA    538.0    1\n",
      "3  N786AA    505.0    1\n",
      "4  N7LRAA    411.5    2\n",
      "5  N724AN    351.0    1\n",
      "6  N206PS    287.0    1\n",
      "7  N178UA    276.0    1\n",
      "8  N7BDAA    270.0    1\n",
      "9  N7LVAA    259.0    2\n"
     ]
    }
   ],
   "source": [
    "# Find the tail numbers of the planes with the worst mean dep. delays. \n",
    "# Store the tail number \"tailNum\", number of flights \"num\", and\n",
    "#   mean delay \"mnDelay\" in a DataFrame\n",
    "mean_del_t = flights.groupby('tailNum')['depDelay'].agg(['mean', 'count'])\n",
    "mean_del_t.columns = ['mnDelay', 'num']\n",
    "# Sorting the DataFrame by mean delay in descending order\n",
    "mean_del_t = mean_del_t.sort_values(by='mnDelay', ascending=False)\n",
    "# Getting the top ten planes with the worst mean departure delays\n",
    "topDelayed = mean_del_t.head(10)\n",
    "# Resetting index to make tailNum a regular column\n",
    "topDelayed.reset_index(inplace=True)\n",
    "# Display the DataFrame\n",
    "print(topDelayed)"
   ]
  }
 ],
 "metadata": {
  "kernelspec": {
   "display_name": "Python 3 (ipykernel)",
   "language": "python",
   "name": "python3"
  },
  "language_info": {
   "codemirror_mode": {
    "name": "ipython",
    "version": 3
   },
   "file_extension": ".py",
   "mimetype": "text/x-python",
   "name": "python",
   "nbconvert_exporter": "python",
   "pygments_lexer": "ipython3",
   "version": "3.8.8"
  }
 },
 "nbformat": 4,
 "nbformat_minor": 5
}
